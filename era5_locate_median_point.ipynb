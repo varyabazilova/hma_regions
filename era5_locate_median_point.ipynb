{
 "cells": [
  {
   "cell_type": "code",
   "execution_count": 1,
   "id": "416a29e8-5780-48bf-8644-9c92f40fa4bc",
   "metadata": {},
   "outputs": [],
   "source": [
    "import pandas as pd\n",
    "import numpy as np\n",
    "import xarray as xr\n",
    "import geopandas as gpd\n",
    "from glob import glob\n",
    "\n",
    "import matplotlib.pyplot as plt\n",
    "\n",
    "import rioxarray as rio\n",
    "from shapely.geometry import mapping\n",
    "\n",
    "%matplotlib inline\n",
    "# %matplotlib widget"
   ]
  },
  {
   "cell_type": "code",
   "execution_count": null,
   "id": "3ebe3c03-945a-4ba5-a07b-e0b13c7c30ad",
   "metadata": {},
   "outputs": [],
   "source": [
    "# import era5 data \n",
    "# merge all together \n",
    "# clip by HMA regions (pick one) \n",
    "# find median pixel (location)\n",
    "# go to GEE find the date of snowline in that location (average over pixel area maybe?)\n",
    "# "
   ]
  },
  {
   "cell_type": "markdown",
   "id": "d2d81e94-c4d1-4192-94ab-fcadd8073f2b",
   "metadata": {
    "tags": []
   },
   "source": [
    "### read hma regions"
   ]
  },
  {
   "cell_type": "code",
   "execution_count": null,
   "id": "d3a1777f-60c3-42ab-bc2d-dca4aa017d2e",
   "metadata": {
    "tags": []
   },
   "outputs": [],
   "source": [
    "hma = gpd.read_file('HMA_regions/HMA_regions.shp')\n",
    "# hma.plot()\n",
    "\n",
    "# as dataframe\n",
    "hma_df = pd.DataFrame(hma) \n",
    "# hma_df.columns\n",
    "hma_df.Name[1]"
   ]
  },
  {
   "cell_type": "markdown",
   "id": "9eb3e4f4-f25f-481b-bc22-d20f703e979f",
   "metadata": {},
   "source": [
    "## era5 for 2012 as an example! "
   ]
  },
  {
   "cell_type": "code",
   "execution_count": null,
   "id": "cd98fbd3-f487-451f-8e3d-a8478eeb1d1e",
   "metadata": {},
   "outputs": [],
   "source": [
    "'''\n",
    "# read:\n",
    "t2m = xr.open_dataset('era5_2m-temperature_hourly_2012.nc', decode_coords=\"all\")\n",
    "ssrd = xr.open_dataset('era5_surface-solar-radiation-downwards_hourly_2012.nc', decode_coords=\"all\")\n",
    "tcc = xr.open_dataset('era5_total-cloud-cover_hourly_2012.nc', decode_coords=\"all\")\n",
    "tp = xr.open_dataset('era5_total-precipitation_hourly_2012.nc', decode_coords=\"all\")\n",
    "\n",
    "# merge by coordinates \n",
    "# tutorial: https://docs.xarray.dev/en/stable/user-guide/combining.html\n",
    "climate = xr.merge([t2m, tp, ssrd, tcc]) \n",
    "'''"
   ]
  },
  {
   "cell_type": "markdown",
   "id": "50bfb19b-72d7-4713-ab2d-a1a524bea5da",
   "metadata": {},
   "source": [
    "### OR: era5 open all "
   ]
  },
  {
   "cell_type": "code",
   "execution_count": null,
   "id": "987769dc-7c62-4e11-b16e-4e114db3ec3b",
   "metadata": {},
   "outputs": [],
   "source": [
    "climate = xr.open_mfdataset('*.nc', decode_coords=\"all\")\n",
    "# cnange units (and overwrite the metadata with the units after)\n",
    "\n",
    "#convert temperature K to C\n",
    "climate['t2m']=climate.t2m-273.15\n",
    "# precipotation m to mm \n",
    "climate['tp']=climate.tp * 1000\n",
    "# radiation j/m2 to w/m2\n",
    "# SSR [W/m2] = SSR [J/m^2] / (3600 seconds)\n",
    "climate['ssrd'] = climate.ssrd / 3600"
   ]
  },
  {
   "cell_type": "code",
   "execution_count": null,
   "id": "663a8890-7bf7-43a2-9041-c8d8ce5997d2",
   "metadata": {},
   "outputs": [],
   "source": [
    "fig, ax = plt.subplots(figsize=(6, 6))\n",
    "climate.t2m[1,:,:].plot()#palette='viridis')\n",
    "hma.boundary.plot(ax=ax, alpha=.6, color='black')\n",
    "fig.tight_layout()"
   ]
  },
  {
   "cell_type": "code",
   "execution_count": null,
   "id": "542ed94a-6200-4afd-9e33-fdc4da721b01",
   "metadata": {},
   "outputs": [],
   "source": [
    "''' change name of the mountain range here'''\n",
    "\n",
    "roi = hma[hma['Name'] == hma_df.Name[21]]\n",
    "name = roi.Name\n",
    "print(roi.Name)\n",
    "# karakoram.crs"
   ]
  },
  {
   "cell_type": "code",
   "execution_count": null,
   "id": "5dfc6ee0-1b97-451d-8d33-268ffc5f9b04",
   "metadata": {},
   "outputs": [],
   "source": [
    "# add crs to the dataset (netcdf file) - maybe this is not even needed \n",
    "climate = climate.rio.write_crs('EPSG:4326')\n",
    " \n",
    "# clip using xarrayrio library:\n",
    "roi_climate = climate.rio.clip(roi.geometry, roi.crs, drop=True, invert=False)"
   ]
  },
  {
   "cell_type": "code",
   "execution_count": null,
   "id": "f656b29b-e69b-437a-9349-182fb8177132",
   "metadata": {},
   "outputs": [],
   "source": [
    "'''\n",
    "# see how it looks like \n",
    "roi_climate.t2m[795,:,:].plot()\n",
    "fig.tight_layout()\n",
    "'''"
   ]
  },
  {
   "cell_type": "code",
   "execution_count": null,
   "id": "88d8cb5f-09f3-4338-9a94-e6f098f3897d",
   "metadata": {},
   "outputs": [],
   "source": [
    "'''\n",
    "# calculate how many era5 pix fall into the mountain range polygon\n",
    "\n",
    "x = roi_climate.t2m[1,:,:].values.flatten()\n",
    "print('total numnber of pixels within bbox:', x.shape, '\\n')\n",
    "\n",
    "# without nans\n",
    "x2 = x[~np.isnan(x)]\n",
    "print('number of not-nan pixels:', x2.shape, '\\n')\n",
    "\n",
    "\n",
    "# check what to do for the median (in space) value: \n",
    "if (len(x2) % 2) == 0:\n",
    "    print ('EVEN number of not-nans -> ceiling/floor median')\n",
    "else:print ('ODD number of not-nans -> regular median is ok')\n",
    "'''"
   ]
  },
  {
   "cell_type": "code",
   "execution_count": null,
   "id": "e4ba2820-5acf-436a-aa55-81b46e80d103",
   "metadata": {},
   "outputs": [],
   "source": []
  },
  {
   "cell_type": "markdown",
   "id": "69a2be0d-f02f-479b-a220-5e3848e08bc5",
   "metadata": {},
   "source": [
    "### time dimention (-> value IN TIME)"
   ]
  },
  {
   "cell_type": "code",
   "execution_count": null,
   "id": "14bbffcf-040a-4cb4-9a37-e09e20a58eac",
   "metadata": {},
   "outputs": [],
   "source": [
    "## \"flatten\" the data over time: reduce to smth (median temperatures/sum of precipitation over the year/etc) \n",
    "\n",
    "# statistics + keep the coordinates -> value IN TIME \n",
    "roi_climate_median = roi_climate.median(dim='time', keep_attrs = True, skipna=True)\n",
    "# roi_climate_sum    = roi_climate.sum(dim='time', keep_attrs = True)\n"
   ]
  },
  {
   "cell_type": "markdown",
   "id": "200ab887-ee9e-448f-9186-ce77077cadea",
   "metadata": {},
   "source": [
    "### space dimention (with pandas)"
   ]
  },
  {
   "cell_type": "code",
   "execution_count": null,
   "id": "c46a9f0d-c415-4985-8d1e-c540328eeeaf",
   "metadata": {},
   "outputs": [],
   "source": [
    "# with pandas: \n",
    "# (1) compute median in time (-> on the previous step) \n",
    "# (2) convert to dataframe (with coords being index)\n",
    "# (3) kick out nans and duplicates\n",
    "# (4) compute median (or some other thing) across the table \n",
    "# (5) find the index of the value that eq=median\n",
    "\n",
    "\n",
    "# to dataframe - median:\n",
    "roi_climate_median_df = roi_climate_median.to_dataframe() # dimentions: number of catchments squared\n",
    "roi_climate_median_df = roi_climate_median_df.dropna()\n",
    "roi_climate_median_df = roi_climate_median_df.drop_duplicates()\n",
    "# sanity check:\n",
    "print('length of the df:', len(roi_climate_median_df))\n",
    "\n",
    "# to dataframe - sum:\n",
    "# roi_climate_sum_df = roi_climate_sum.to_dataframe() # dimentions: number of catchments squared\n",
    "# roi_climate_sum_df = roi_climate_sum_df.dropna()\n",
    "# roi_climate_sum_df = roi_climate_sum_df.drop_duplicates()\n",
    "\n",
    "\n",
    " \n",
    "# roi_climate_median_df.head()"
   ]
  },
  {
   "cell_type": "markdown",
   "id": "3ee0909b-beb1-42a6-9e8d-d897cadce223",
   "metadata": {},
   "source": [
    "### median value of the not-nan pixels: "
   ]
  },
  {
   "cell_type": "code",
   "execution_count": null,
   "id": "0f1cfd57-75fa-4257-9fd5-8dfe9e5b34b9",
   "metadata": {},
   "outputs": [],
   "source": [
    "# since there are even number of pixels calculate medians in space this way: \n",
    "\n",
    "def median_ceil(values):\n",
    "    values = sorted(values)\n",
    "    values_len = len(values)\n",
    "    middle = values_len//2\n",
    "    return values[middle]\n",
    "\n",
    "# t2m: \n",
    "t2m_median = roi_climate_median_df[roi_climate_median_df.t2m==median_ceil(values=roi_climate_median_df.t2m)]\n",
    "# tp_median = roi_climate_median_df[roi_climate_median_df.tp==median_ceil(values=roi_climate_median_df.tp)]\n",
    "\n",
    "print('name of the mountain range:', roi.Name, '\\n')\n",
    "\n",
    "print('coordinates for the median temperature:', t2m_median.index, '\\n') \n",
    "\n",
    "\n",
    "# print('coordinates for the median precipitation:', tp_median.index) # more then one "
   ]
  },
  {
   "cell_type": "code",
   "execution_count": null,
   "id": "2a192ee0-de44-4ad8-9b4c-204e1a2ab28c",
   "metadata": {},
   "outputs": [],
   "source": [
    "print('name of the mountain range:', roi.Name, '\\n')\n",
    "# t2m_median.t2m.values[0]\n",
    "t2m_median"
   ]
  },
  {
   "cell_type": "code",
   "execution_count": null,
   "id": "db9db5e5-3098-4a47-850b-3b29e844c1ab",
   "metadata": {},
   "outputs": [],
   "source": [
    "# median temperature coordinates: \n",
    "\n",
    "# 0. Eastern Hindu Kush           35.25, 72.75   0.290222\n",
    "# 1. Weatern Himalaya             32.0,  77.5    -4.169601\n",
    "# 2. Eastern Himalaya             27.75, 91.0    5.055511\n",
    "# 3. Central Himalaya             31.25, 78.0    5.66568\n",
    "# 4. Karakoram                    34.5,  78.5    -13.504562\n",
    "# 5. Western Pamir                37.25, 72.25   -9.19783\n",
    "# 6. Pamir Alay                   39.0,  69.0    0.290222\n",
    "# 7. Northern/Western Tien Shan   43.0,  80.0    3.12915\n",
    "# 8. Dzhungarsky Alatau           44.75, 79.0    1.454086\n",
    "# 9. Western Kunlun Shan          36.25, 82.75   -9.67034912109375\n",
    "# 10. Nyainqentanglha             29.0,  97.0    -2.06459\n",
    "# 11. Gangdise Mountains          31.75, 81.25   -4.905823\n",
    "# 12. Hengduan Shan               30.5,  100.75   3.731567\n",
    "# 13. Tibetan Interior Mountains  32.75, 81.25    -5.162567\n",
    "# 14. Tanggula Shan               33.75, 91.75    -6.484207\n",
    "# 15.  Eastern Tibetan Mountains  34.0,  99.75    -4.787506\n",
    "# 16. Qilian Shan                 37.5,  100.0    -2.851852\n",
    "# 17. Eastern Kunlun Shan         35.75, 96.5     -6.595551\n",
    "# 18. Altun Shan                  39.0,  90.25    1.604126\n",
    "# 19. Eastern Tien Shan           43.75, 92.0      3.453934\n",
    "# 20. Central Tien Shan           42.75, 83.75     -2.627563\n",
    "# 21. Eastern Pamir               38.0,  75.5      -6.310211"
   ]
  },
  {
   "cell_type": "code",
   "execution_count": null,
   "id": "c3516a3d-499f-482f-8c77-d13defdaba48",
   "metadata": {},
   "outputs": [],
   "source": [
    "# len(median_t2m_regions)\n",
    "# np.random.rand(21, 1)\n",
    "\n"
   ]
  },
  {
   "cell_type": "code",
   "execution_count": null,
   "id": "c742ef39-0597-4ff7-86c5-a12b7c63e061",
   "metadata": {},
   "outputs": [],
   "source": [
    "median_t2m_regions = {'Name': ['Eastern Hindu Kush',\n",
    "                               'Weatern Himalaya','Eastern Himalaya',\n",
    "                               'Central Himalaya','Karakoram', 'Western Pamir','Pamir Alay', \n",
    "                               'Northern/Western Tien Shan','Dzhungarsky Alatau', 'Western Kunlun Shan', \n",
    "                               'Nyainqentanglha','Gangdise Mountains','Hengduan Shan','Tibetan Interior Mountains',\n",
    "                               'Tanggula Shan','Eastern Tibetan Mountains', 'Qilian Shan', 'Eastern Kunlun Shan',\n",
    "                               'Altun Shan', 'Eastern Tien Shan', 'Central Tien Shan','Eastern Pamir'], \n",
    "                      'latitude': [35.25, 32.0, 27.75, 31.25, 34.5, 37.25, 39.0, 43.0, 44.75, 36.25, 29.0, 31.75,\n",
    "                                   30.5, 32.75, 33.75, 34.0, 37.5, 35.75, 39.0, 43.75, 42.75, 38.0], \n",
    "                      'longitude': [72.75, 77.5, 91.0, 78.0, 78.5, 72.25, 69.0, 80.0, 79.0, 82.75, 97.0, 81.25, \n",
    "                                    100.75, 81.25, 91.75, 99.75, 100.0, 96.5, 90.25, 92.0, 83.75, 75.5], \n",
    "                     't2m_median_2012': [0.290222,-4.169601,5.055511,5.66568,-13.504562,-9.19783,0.290222,3.12915,1.454086,\n",
    "                                    -9.67034912109375,-2.06459,-4.905823,3.731567,-5.162567,-6.484207,-4.787506,-2.851852,\n",
    "                                    -6.595551,1.604126,3.453934,-2.627563,-6.310211]}\n",
    "\n",
    "median_t2m_regions= pd.DataFrame(median_t2m_regions).set_index('Name')"
   ]
  },
  {
   "cell_type": "code",
   "execution_count": null,
   "id": "4db67669-4ecd-4c3f-a698-1b6e47b5b6e8",
   "metadata": {},
   "outputs": [],
   "source": [
    "median_t2m_regions.head() "
   ]
  },
  {
   "cell_type": "markdown",
   "id": "a6f9c5ad-3e64-41ed-8ef7-67966c5fe17d",
   "metadata": {},
   "source": [
    "### plot points with the outlines pf the regions "
   ]
  },
  {
   "cell_type": "code",
   "execution_count": null,
   "id": "90309be3-1874-4aac-805b-eb12a95d6505",
   "metadata": {},
   "outputs": [],
   "source": [
    "fig, ax = plt.subplots(figsize=(10, 10))\n",
    "# hma bounds\n",
    "hma.boundary.plot(ax = ax, color='black' )\n",
    "# points\n",
    "plt.scatter(x = median_t2m_regions.longitude, y = median_t2m_regions.latitude, c = median_t2m_regions.t2m_median_2012)\n",
    "\n",
    "plt.colorbar()\n",
    "plt.title('median 2012 temperature')"
   ]
  },
  {
   "cell_type": "code",
   "execution_count": null,
   "id": "0d8ebd0b-6db4-40b2-bd49-409ac07e256d",
   "metadata": {},
   "outputs": [],
   "source": []
  },
  {
   "cell_type": "markdown",
   "id": "1594b5e8-caf3-4524-a3bc-5baa664db6b9",
   "metadata": {
    "tags": []
   },
   "source": [
    "### get time-series for all these coordinates (temperature) "
   ]
  },
  {
   "cell_type": "code",
   "execution_count": null,
   "id": "e1de496d-5806-44cc-afc4-2da41c20a820",
   "metadata": {},
   "outputs": [],
   "source": []
  },
  {
   "cell_type": "code",
   "execution_count": null,
   "id": "13e1e05e-1323-42d7-bb56-72ef4d13c563",
   "metadata": {},
   "outputs": [],
   "source": []
  },
  {
   "cell_type": "markdown",
   "id": "bc68875f-0408-4e7d-b331-ed75813c715e",
   "metadata": {},
   "source": [
    "## Precipitation\n",
    "\n",
    "#### annual sum of precipitation -> find median value per region "
   ]
  },
  {
   "cell_type": "code",
   "execution_count": null,
   "id": "177ad2c0-88ec-4166-902c-82f51cfac612",
   "metadata": {},
   "outputs": [],
   "source": [
    "precip = xr.open_dataset(\"era5_resampled_to_annual/total_precipitation_annual_sum_1979to2020.nc\", decode_coords=\"all\")\n",
    "\n",
    "# ----- crs -----\n",
    "\n",
    "# add crs to the dataset (netcdf file) - maybe this is not even needed \n",
    "precip = precip.rio.write_crs('EPSG:4326')\n",
    "\n",
    "\n",
    "# ----- median annual sum -------\n",
    "median = precip.median(dim='year', keep_attrs = True, skipna=True)\n"
   ]
  },
  {
   "cell_type": "code",
   "execution_count": null,
   "id": "4d12dfe2-8083-40c6-9c2b-93cc45dc4767",
   "metadata": {},
   "outputs": [],
   "source": [
    "\n",
    "# function for median: \n",
    "\n",
    "def median_ceil(values):\n",
    "    values = sorted(values)\n",
    "    values_len = len(values)\n",
    "    middle = values_len//2\n",
    "    return values[middle]\n",
    "\n",
    "# median"
   ]
  },
  {
   "cell_type": "code",
   "execution_count": null,
   "id": "a71a6249-904a-4730-b04f-38dfd3fa8bd0",
   "metadata": {},
   "outputs": [],
   "source": [
    "''' change name of the mountain range here'''\n",
    "\n",
    "# hma\n",
    "roi = hma[hma['Name'] == hma_df.Name[21]]\n",
    "# name = roi.Name\n",
    "# print(roi.Name)"
   ]
  },
  {
   "cell_type": "code",
   "execution_count": null,
   "id": "cff787f3-987b-4652-a676-f0be58fdd54f",
   "metadata": {},
   "outputs": [],
   "source": [
    "# clip:\n",
    "clipped = median.rio.clip(roi.geometry, roi.crs, drop=True, invert=False)\n",
    "\n",
    "# to df:\n",
    "df = clipped.to_dataframe().reset_index()\n",
    "df = df.dropna().drop_duplicates()\n",
    "\n",
    "df = df[df.expver == 1]\n",
    "\n",
    "# median in space:\n",
    "median_space = median_ceil(values=df.tp)\n",
    "\n",
    "row = df[df.tp == median_space]\n"
   ]
  },
  {
   "cell_type": "code",
   "execution_count": null,
   "id": "24675ef4-e9b7-4763-adce-d8100eb8b06b",
   "metadata": {},
   "outputs": [],
   "source": [
    "print('name of roi:', roi.Name , '\\n')\n",
    "\n",
    "print('lat:', row.latitude.values[0], '\\n')\n",
    "print('lon:', row.longitude.values[0], '\\n')\n",
    "print('tp value:', row.tp.values[0])"
   ]
  },
  {
   "cell_type": "code",
   "execution_count": null,
   "id": "78826d1b-88e8-4e95-a046-f0ce99d772b9",
   "metadata": {},
   "outputs": [],
   "source": [
    "# median precipitation coordinates: \n",
    "\n",
    "# 0. Eastern Hindu Kush           36.0  72.25  0.7620535\n",
    "# 1. Weatern Himalaya             34.25 73.0   1.1706305\n",
    "# 2. Eastern Himalaya             27.5  89.0   2.7184653\n",
    "# 3. Central Himalaya             27.5  84.5   1.5944765\n",
    "# 4. Karakoram                    36.75 73.0   0.58780897\n",
    "# 5. Western Pamir                36.75 71.25  0.5485622\n",
    "# 6. Pamir Alay                   40.25 73.75  1.0962509  \n",
    "# 7. Northern/Western Tien Shan   43.25 78.5   0.935992\n",
    "# 8. Dzhungarsky Alatau           45.0  80.5   0.7453102\n",
    "# 9. Western Kunlun Shan          36.0  78.75  0.40251723\n",
    "# 10. Nyainqentanglha             29.75 91.75  1.0952213\n",
    "# 11. Gangdise Mountains          31.25 80.75  0.45727164\n",
    "# 12. Hengduan Shan               30.5  101.25 1.2621787\n",
    "# 13. Tibetan Interior Mountains  34.5  85.0   0.41629964\n",
    "# 14. Tanggula Shan               32.75 91.25  0.73406124\n",
    "# 15.  Eastern Tibetan Mountains  33.25 95.0   0.73050326\n",
    "# 16. Qilian Shan                 39.0  98.0   0.5301913\n",
    "# 17. Eastern Kunlun Shan         36.0  96.25  0.40490812\n",
    "# 18. Altun Shan                  38.75 90.75  0.2197583\n",
    "# 19. Eastern Tien Shan           43.5  83.0   0.50500554\n",
    "# 20. Central Tien Shan           41.5  76.75  0.59172446\n",
    "# 21. Eastern Pamir               37.5  75.25  0.47593403"
   ]
  },
  {
   "cell_type": "code",
   "execution_count": null,
   "id": "dc14d9d3-1ec1-4e0f-a3b6-83453b05db41",
   "metadata": {},
   "outputs": [],
   "source": [
    "annual_tp_regions = {'Name': ['0 Eastern Hindu Kush',\n",
    "                               '1 Weatern Himalaya','2 Eastern Himalaya',\n",
    "                               '3 Central Himalaya','4 Karakoram', '5 Western Pamir','6 Pamir Alay', \n",
    "                               '7 Northern/Western Tien Shan','8 Dzhungarsky Alatau', '9 Western Kunlun Shan', \n",
    "                               '10 Nyainqentanglha','11 Gangdise Mountains','12 Hengduan Shan','13 Tibetan Interior Mountains',\n",
    "                               '14 Tanggula Shan','15 Eastern Tibetan Mountains', '16 Qilian Shan', '17 Eastern Kunlun Shan',\n",
    "                               '18 Altun Shan', '19 Eastern Tien Shan', '20 Central Tien Shan','21 Eastern Pamir'], \n",
    "                      'latitude': [36.0, 34.25, 27.5, 27.5, 36.75, 36.75, 40.25, 43.25, 45.0, 36.0, 29.75, \n",
    "                                   31.25, 30.5, 34.5, 32.75, 33.25, 39.0 , 36.0 , 38.75, 43.5 , 41.5 , 37.5 ], \n",
    "                     \n",
    "                      'longitude': [72.25, 73.0, 89.0, 84.5, 73.0, 71.25, 73.75, 78.5, 80.5, 78.75, 91.75,\n",
    "                                    80.75, 101.25, 85.0, 91.25, 95.0, 98.0, 96.25, 90.75, 83.0, 76.75, 75.25 ], \n",
    "                     \n",
    "                      'tp_median': [0.7620535, 1.1706305, 2.7184653, 1.5944765, 0.58780897, 0.5485622, 1.0962509, \n",
    "                                    0.935992, 0.7453102, 0.40251723, 1.0952213, 0.45727164, 1.2621787 ,0.41629964, \n",
    "                                    0.73406124, 0.73050326, 0.5301913, 0.40490812, 0.2197583, 0.50500554, 0.59172446, \n",
    "                                    0.47593403]}\n",
    "\n",
    "median_tp_regions= pd.DataFrame(annual_tp_regions)#.set_index('Name')"
   ]
  },
  {
   "cell_type": "code",
   "execution_count": null,
   "id": "b0fa8e2b-60d0-4d77-a3db-5a4d3fa422a4",
   "metadata": {},
   "outputs": [],
   "source": [
    "fig, ax = plt.subplots(figsize=(10, 10))\n",
    "# hma bounds\n",
    "hma.boundary.plot(ax = ax, color='black' )\n",
    "# points\n",
    "plt.scatter(x = median_tp_regions.longitude, y = median_tp_regions.latitude, c = median_tp_regions.tp_median)\n",
    "\n",
    "plt.colorbar()\n",
    "plt.title('median annual precipitation sum per region [m]')\n",
    "\n",
    "plt.savefig('median_annual_precip.png', dpi = 300) "
   ]
  },
  {
   "cell_type": "markdown",
   "id": "89dafb50-733d-4d8d-bc66-620fa630f8bd",
   "metadata": {},
   "source": [
    "## time-series for median annual precipitation locations\n",
    "\n",
    "#### select time_series of climate data for the coordinates of the median points"
   ]
  },
  {
   "cell_type": "code",
   "execution_count": null,
   "id": "9e3a1b19-0f25-4a4e-8b84-1a106b6a3cd5",
   "metadata": {},
   "outputs": [],
   "source": [
    "# read all climate data for all time: \n",
    "\n",
    "t2m_all = xr.open_mfdataset('/Volumes/Data/Repository/external_data/ERA5/HMA/netcdf/hourly/2m-temperature/*.nc', decode_coords = \"all\")\n",
    "tp_all = xr.open_mfdataset('/Volumes/Data/Repository/external_data/ERA5/HMA/netcdf/hourly/total-precipitation/*.nc', decode_coords = \"all\")\n",
    "solar_all = xr.open_mfdataset('/Volumes/Data/Repository/external_data/ERA5/HMA/netcdf/hourly/surface-solar-radiation-downwards/*.nc', decode_coords = \"all\")\n",
    "tcc_all = xr.open_mfdataset('/Volumes/Data/Repository/external_data/ERA5/HMA/netcdf/hourly/total-cloud-cover/*.nc', decode_coords = \"all\")\n",
    "\n",
    "# climate_all = xr.merge([tp_all, t2m_all, solar_all, tcc_all])\n",
    "\n",
    "#convert temperature K to C\n",
    "t2m_all['t2m']=t2m_all.t2m-273.15\n",
    "\n",
    "# precipotation m to mm \n",
    "tp_all['tp']=tp_all.tp * 1000\n",
    "\n",
    "# radiation j/m2 to w/m2\n",
    "# SSR [W/m2] = SSR [J/m^2] / (3600 seconds)\n",
    "solar_all['ssrd'] = solar_all.ssrd / 3600\n",
    "\n"
   ]
  },
  {
   "cell_type": "code",
   "execution_count": null,
   "id": "f6170974-9364-4fbb-a1b9-5c05381ca493",
   "metadata": {},
   "outputs": [],
   "source": [
    "print('some text,', median_tp_regions.Name[3], ', some other text')"
   ]
  },
  {
   "cell_type": "code",
   "execution_count": null,
   "id": "dafda2d4-85c2-4c74-9353-e6aeca4f34ff",
   "metadata": {},
   "outputs": [],
   "source": [
    "# change the number of the string here: \n",
    "n = 0"
   ]
  },
  {
   "cell_type": "code",
   "execution_count": null,
   "id": "1915f68b-d20b-4b44-a2a4-d2869893f0f8",
   "metadata": {},
   "outputs": [],
   "source": [
    "lats_annual =  median_tp_regions.latitude[n]\n",
    "lons_annual = median_tp_regions.longitude[n]\n",
    "\n",
    "print(median_tp_regions.Name[n])"
   ]
  },
  {
   "cell_type": "code",
   "execution_count": null,
   "id": "5d341ac2-19cd-401e-883d-fbbccdf077f7",
   "metadata": {},
   "outputs": [],
   "source": [
    "# ---- temperature -------\n",
    "\n",
    "# select from original climate dataset:\n",
    "ts = t2m_all.sel(longitude=lons_annual, latitude=lats_annual, method='nearest')\n",
    "ts = ts.drop('expver')\n",
    "ts = ts.drop('longitude')\n",
    "ts = ts.drop('latitude')"
   ]
  },
  {
   "cell_type": "markdown",
   "id": "33c8bdff-88f6-4abd-9a66-7e2295557362",
   "metadata": {},
   "source": [
    "## Try to make it run in parallel  "
   ]
  },
  {
   "cell_type": "code",
   "execution_count": null,
   "id": "e2788af8-4122-48fd-83fb-b8f7fe05cc48",
   "metadata": {},
   "outputs": [],
   "source": [
    "# ts\n",
    "from multiprocessing import Pool\n",
    "\n",
    "pool = Pool()"
   ]
  },
  {
   "cell_type": "code",
   "execution_count": null,
   "id": "ee26b079-3250-4453-99cb-79c9218dd92f",
   "metadata": {},
   "outputs": [],
   "source": [
    "pool.map(ts.to_dataframe().dropna().drop_duplicates(), ts)\n"
   ]
  },
  {
   "cell_type": "code",
   "execution_count": null,
   "id": "e760e5ba-69f1-4549-8adb-df25e123271c",
   "metadata": {},
   "outputs": [],
   "source": [
    "pool.close()"
   ]
  },
  {
   "cell_type": "code",
   "execution_count": null,
   "id": "27f842ee-1b7e-4e5d-9731-26420e8e20b4",
   "metadata": {},
   "outputs": [],
   "source": []
  },
  {
   "cell_type": "code",
   "execution_count": null,
   "id": "24ee215e-7de5-4f0f-a64f-7a6d1928b034",
   "metadata": {},
   "outputs": [],
   "source": [
    "%%time \n",
    "\n",
    "ts_df = ts.to_dataframe().dropna().drop_duplicates()\n",
    "# ts_df = ts.to_dask_dataframe()#.to_csv("
   ]
  },
  {
   "cell_type": "code",
   "execution_count": null,
   "id": "43f16bb1-8d6c-4890-94b9-7e67b9f9c1e2",
   "metadata": {},
   "outputs": [],
   "source": [
    "%%time \n",
    "\n",
    "#save .csv file: \n",
    "import os.path\n",
    "\n",
    "save_path = '/Users/varyabazilova/Desktop/hma_regions/out/'\n",
    "save_file = median_tp_regions.Name[n] + 't2m'\n",
    "\n",
    "out = os.path.join(save_path, save_file + '.csv') \n",
    "\n",
    "ts_df.to_csv(out)\n"
   ]
  },
  {
   "cell_type": "code",
   "execution_count": null,
   "id": "2069c696-a14f-41e2-8e8e-c14ab693df75",
   "metadata": {},
   "outputs": [],
   "source": []
  },
  {
   "cell_type": "code",
   "execution_count": null,
   "id": "971c2782-615b-4e27-8fe4-d82631d7e74a",
   "metadata": {},
   "outputs": [],
   "source": []
  },
  {
   "cell_type": "code",
   "execution_count": null,
   "id": "42d85363-ec2b-4dd4-9330-c4a602937340",
   "metadata": {},
   "outputs": [],
   "source": [
    "# calculate how many era5 pix fall into the mountain range polygon\n",
    "\n",
    "x = ts.t2m.values.flatten()\n",
    "print('total numnber of pixels within bbox:', x.shape, '\\n')\n",
    "\n",
    "# without nans\n",
    "x2 = x[~np.isnan(x)]\n",
    "print('number of not-nan pixels:', x2.shape)"
   ]
  },
  {
   "cell_type": "code",
   "execution_count": null,
   "id": "9b186808-7ed2-4289-86bb-91b440fee8cb",
   "metadata": {},
   "outputs": [],
   "source": []
  },
  {
   "cell_type": "code",
   "execution_count": null,
   "id": "ae364231-69e6-45f6-8c4b-7305c9dc2a77",
   "metadata": {},
   "outputs": [],
   "source": []
  },
  {
   "cell_type": "code",
   "execution_count": null,
   "id": "8eb8fcdf-6200-434a-b7ec-1df1b8be4005",
   "metadata": {},
   "outputs": [],
   "source": []
  },
  {
   "cell_type": "code",
   "execution_count": null,
   "id": "d3f5edf8-32ac-4ac4-a7c0-1a9c1d2dd132",
   "metadata": {},
   "outputs": [],
   "source": []
  },
  {
   "cell_type": "code",
   "execution_count": null,
   "id": "5652c239-a491-47cd-8eb8-a2a4eaddad3c",
   "metadata": {},
   "outputs": [],
   "source": []
  },
  {
   "cell_type": "code",
   "execution_count": null,
   "id": "2e2d3a02-66c9-46e5-a673-d33bc2978a9f",
   "metadata": {},
   "outputs": [],
   "source": []
  },
  {
   "cell_type": "markdown",
   "id": "78cf207c-e312-4812-a6cb-38a75f5fd3ea",
   "metadata": {
    "tags": []
   },
   "source": [
    " ### plot time-series for each of this points:"
   ]
  },
  {
   "cell_type": "code",
   "execution_count": null,
   "id": "e5e7fed3-20ab-4c35-addd-c51f943e88a2",
   "metadata": {},
   "outputs": [],
   "source": []
  },
  {
   "cell_type": "code",
   "execution_count": null,
   "id": "0c058030-985a-4143-9387-159367c8fde4",
   "metadata": {},
   "outputs": [],
   "source": []
  },
  {
   "cell_type": "code",
   "execution_count": null,
   "id": "2f469712-9b63-41fb-8d29-ac60c66e299b",
   "metadata": {},
   "outputs": [],
   "source": []
  },
  {
   "cell_type": "code",
   "execution_count": null,
   "id": "a69a8038-335d-44f0-bbaa-a1a1f011bda9",
   "metadata": {},
   "outputs": [],
   "source": []
  },
  {
   "cell_type": "code",
   "execution_count": null,
   "id": "162af166-02ac-40ae-adac-a5d4f7858b34",
   "metadata": {},
   "outputs": [],
   "source": []
  },
  {
   "cell_type": "code",
   "execution_count": null,
   "id": "14a6933a-bfc5-4a54-8537-47c7cdfef33a",
   "metadata": {},
   "outputs": [],
   "source": []
  },
  {
   "cell_type": "code",
   "execution_count": null,
   "id": "1b225390-5f58-4675-978a-f46df4ed36cc",
   "metadata": {},
   "outputs": [],
   "source": []
  },
  {
   "cell_type": "code",
   "execution_count": null,
   "id": "b5b560b4-5794-4a76-8f94-957040fc9db0",
   "metadata": {},
   "outputs": [],
   "source": [
    "ts_df = ts.to_dataframe()#.dropna().drop_duplicates()"
   ]
  },
  {
   "cell_type": "code",
   "execution_count": null,
   "id": "1bd2e144-4ff1-49bb-a001-4dfa3f1b4cc9",
   "metadata": {},
   "outputs": [],
   "source": [
    "ts_df = ts_df.dropna().drop_duplicates()"
   ]
  },
  {
   "cell_type": "code",
   "execution_count": null,
   "id": "55381348-af0e-4fba-8ad8-1235118a077c",
   "metadata": {},
   "outputs": [],
   "source": [
    "ts_df.t2m.plot()\n",
    "ts_df.tp.plot()\n"
   ]
  },
  {
   "cell_type": "code",
   "execution_count": null,
   "id": "f6fdd990-540d-4774-aed4-4ff2864642b0",
   "metadata": {},
   "outputs": [],
   "source": [
    "# ts_df = ts_df.reset_index()"
   ]
  },
  {
   "cell_type": "code",
   "execution_count": null,
   "id": "d1e15d32-4c96-4205-8bb5-f1b000c71cbb",
   "metadata": {},
   "outputs": [],
   "source": [
    "ts_df.head()\n",
    "# len(ts_df)\n",
    "\n",
    "# 193248"
   ]
  },
  {
   "cell_type": "code",
   "execution_count": null,
   "id": "5251ef2d-f01e-4c21-a65c-f84f41e67df4",
   "metadata": {},
   "outputs": [],
   "source": [
    "lats_and_lons = ts_df[['latitude', 'longitude']].groupby(['latitude', 'longitude']).size().reset_index()\n",
    "\n",
    "# print('how many unique pairs of coordinates there are:', len(lats_and_lons))\n",
    "lats_and_lons"
   ]
  },
  {
   "cell_type": "code",
   "execution_count": null,
   "id": "c4e23875-d127-4b8e-8bca-47e36e10a94b",
   "metadata": {},
   "outputs": [],
   "source": [
    "type(lats_and_lons)\n",
    "\n",
    "t2m = ts_df[['latitude', 'longitude', 'time', 't2m']]\n",
    "tp = ts_df[['latitude', 'longitude', 'time', 'tp']]\n",
    "\n"
   ]
  },
  {
   "cell_type": "code",
   "execution_count": null,
   "id": "5ce2d48a-383e-469a-911c-0956b2a0d07c",
   "metadata": {},
   "outputs": [],
   "source": [
    "#  TEMPERATURES: \n",
    "\n",
    "fig, ax = plt.subplots(figsize=(10, 8))\n",
    "\n",
    "# short = roi.reset_index()\n",
    "\n",
    "subs_t2m = []\n",
    "\n",
    "# for lat, lon in zip(roi.latitude, roi.longitude):\n",
    "\n",
    "for lat, lon in zip(lats_and_lons.latitude, lats_and_lons.longitude):\n",
    "\n",
    "# for lat, lon in zip(short.latitude.unique(), short.longitude.unique()):\n",
    "    # print(lat, lon)\n",
    "    subdf = t2m[(t2m.latitude==lat) & (t2m.longitude==lon)]\n",
    "    subdf.set_index('time', inplace=True)\n",
    "    \n",
    "    subs_t2m.append(subdf)\n",
    "    \n",
    "    ax.plot(subdf.index, subdf.t2m, alpha = 0.5, label='{lat} - {lon}'.format(lat=lat, lon=lon))\n",
    "ax.legend(bbox_to_anchor=(1.04,0.5), loc=\"center left\", ncol=4)\n",
    "plt.title('t2m')\n",
    "# plt.suptitle(str(name))"
   ]
  },
  {
   "cell_type": "code",
   "execution_count": null,
   "id": "17de8443-e60a-42f2-ac58-ad750d7d3ebc",
   "metadata": {},
   "outputs": [],
   "source": []
  },
  {
   "cell_type": "code",
   "execution_count": null,
   "id": "aaef2b46-c5bb-496f-8baa-b342cd32897c",
   "metadata": {},
   "outputs": [],
   "source": []
  },
  {
   "cell_type": "code",
   "execution_count": null,
   "id": "da573710-9cdd-4779-92c0-520d850e741d",
   "metadata": {},
   "outputs": [],
   "source": []
  },
  {
   "cell_type": "code",
   "execution_count": null,
   "id": "74f21452-a083-439a-9e14-c5d0368451db",
   "metadata": {},
   "outputs": [],
   "source": []
  },
  {
   "cell_type": "code",
   "execution_count": null,
   "id": "216e1a99-b0e4-4696-b00b-ea6ba3f06ff3",
   "metadata": {},
   "outputs": [],
   "source": []
  },
  {
   "cell_type": "code",
   "execution_count": null,
   "id": "9540529c-0497-4a8a-9613-9c2367c75d02",
   "metadata": {},
   "outputs": [],
   "source": []
  },
  {
   "cell_type": "code",
   "execution_count": null,
   "id": "8e5e5607-d495-4477-a625-b006eaeffb8d",
   "metadata": {},
   "outputs": [],
   "source": []
  },
  {
   "cell_type": "markdown",
   "id": "ebdb0b0e-4856-4be2-b59a-3d10c4334248",
   "metadata": {},
   "source": [
    "### xr.where() - way\n",
    "#### spatial dimention (-> value IN SPACE + find location ) "
   ]
  },
  {
   "cell_type": "code",
   "execution_count": null,
   "id": "130b7ed7-a91b-44f0-bcb1-852ea2b444e3",
   "metadata": {},
   "outputs": [],
   "source": [
    "# calculate the median value over the region -> vallue IN SPACE \n",
    "# then find it's location \n",
    "# https://docs.xarray.dev/en/latest/generated/xarray.DataArray.where.html\n",
    "\n",
    "# roi_t2m_median = roi_climate_median.t2m.median()#dim = axes, keep_attrs = True)\n"
   ]
  },
  {
   "cell_type": "code",
   "execution_count": null,
   "id": "f25f9fb3-013a-4750-812f-d6871dcf452d",
   "metadata": {},
   "outputs": [],
   "source": [
    "# with numpy (for T2M and TP): \n",
    "\n",
    "# t2m median vallue:\n",
    "# t2m_median['t2m'].iloc[0] - value from median table: \n",
    "median_t2m_where = roi_climate_median.t2m.where(roi_climate_median.t2m == t2m_median['t2m'].iloc[0])\n"
   ]
  },
  {
   "cell_type": "code",
   "execution_count": null,
   "id": "65a7819f-be4a-4b2e-b384-4981bd235942",
   "metadata": {},
   "outputs": [],
   "source": [
    "median_t2m_where.plot()"
   ]
  },
  {
   "cell_type": "code",
   "execution_count": null,
   "id": "88658c98-ed2e-410f-bd77-723f2ebb0ed9",
   "metadata": {},
   "outputs": [],
   "source": [
    "# type(roi_climate_median)\n",
    "# type(median_t2m)\n",
    "# ds\n",
    "# t2m_median['t2m'].iloc[0] - t2m_median "
   ]
  },
  {
   "cell_type": "markdown",
   "id": "f3075917-907d-453f-a46d-5423e9e43c81",
   "metadata": {
    "tags": []
   },
   "source": [
    "## annual sum of precipitation, then take median vallue of the precipitation sum"
   ]
  },
  {
   "cell_type": "code",
   "execution_count": null,
   "id": "a3644158-b6e1-435f-8a84-3f7625b4f916",
   "metadata": {},
   "outputs": [],
   "source": [
    "# read file:\n",
    "\n",
    "annual_tp = xr.open_dataset('/Users/varyabazilova/Desktop/hma_regions/era5_resampled_to_annual/total_precipitation_annual_sum_1979to2020.nc', decode_coords=\"all\")"
   ]
  },
  {
   "cell_type": "code",
   "execution_count": null,
   "id": "555b45b4-8ea1-4151-82dc-1896070fd6e1",
   "metadata": {},
   "outputs": [],
   "source": [
    "# clip with roi of interest\n",
    "# add crs to the dataset (netcdf file) - maybe this is not even needed \n",
    "annual_tp = annual_tp.rio.write_crs('EPSG:4326')\n",
    "\n",
    "# clip using xarrayrio library:\n",
    "roi_annual_tp = annual_tp.rio.clip(roi.geometry, roi.crs, drop=True, invert=False)\n"
   ]
  },
  {
   "cell_type": "code",
   "execution_count": null,
   "id": "681e669e-eec6-4a8f-adcd-a6748847628b",
   "metadata": {},
   "outputs": [],
   "source": [
    "# calculate median vallue of in time\n",
    "\n",
    "annual_median = roi_annual_tp.median(dim = 'year', keep_attrs = True)"
   ]
  },
  {
   "cell_type": "code",
   "execution_count": null,
   "id": "14e96453-e03e-4343-b215-a8bcd77884b1",
   "metadata": {},
   "outputs": [],
   "source": [
    "## calculate not nan values \n",
    "count = roi_annual_tp.tp[1,:,:].values.flatten()\n",
    "print('total numnber of pixels within bbox:', count.shape)\n",
    "\n",
    "# without nans\n",
    "count2 = count[~np.isnan(count)]\n",
    "print('number of not-nan pixels:', count2.shape)\n",
    "\n"
   ]
  },
  {
   "cell_type": "code",
   "execution_count": null,
   "id": "ea61ccd1-59f3-4bc0-b8a8-e8b02fe839ab",
   "metadata": {},
   "outputs": [],
   "source": [
    "# check for the median: \n",
    "if (len(count2) % 2) == 0:\n",
    "    print ('EVEN number of not-nans -> ceiling/floor median')\n",
    "else:print ('ODD number of not-nans -> regular median is ok')"
   ]
  },
  {
   "cell_type": "code",
   "execution_count": null,
   "id": "a0be7d5e-72a4-4dc7-aa0c-03da6424fc6e",
   "metadata": {},
   "outputs": [],
   "source": [
    "# convert to data frame \n",
    "# to dataframe - sum:\n",
    "annual_median_df = annual_median.to_dataframe() # dimentions: number of catchments squared\n",
    "annual_median_df = annual_median_df.dropna().drop_duplicates()\n",
    "# roi_climate_sum_df = roi_climate_sum_df.drop_duplicates()\n"
   ]
  },
  {
   "cell_type": "code",
   "execution_count": null,
   "id": "4e1d74d4-ec3a-4bb9-bfca-393096d8b3fe",
   "metadata": {},
   "outputs": [],
   "source": [
    "# annual_median_df.head()\n"
   ]
  },
  {
   "cell_type": "code",
   "execution_count": null,
   "id": "f625b40a-6bb0-47c3-9bbf-5917217be057",
   "metadata": {},
   "outputs": [],
   "source": [
    "# since there are even number of pixels calculate medians in space this way: \n",
    "\n",
    "# def median_ceil(values):\n",
    "    # values = sorted(values)\n",
    "    # values_len = len(values)\n",
    "    # middle = values_len//2\n",
    "    # return values[middle]\n",
    "\n",
    "# t2m: \n",
    "annual_median_xy = annual_median_df[annual_median_df.tp==median_ceil(values=annual_median_df.tp)]\n",
    "\n",
    "print('region of interest:\\n', roi.Name, '\\n')\n",
    "\n",
    "print('coordinates for the median precipitation:\\n', annual_median_xy.index) # more then one \n",
    "\n"
   ]
  },
  {
   "cell_type": "code",
   "execution_count": null,
   "id": "ac733f9d-43d1-483d-9782-0d215022c7b8",
   "metadata": {},
   "outputs": [],
   "source": [
    "annual_tp_where = annual_median.tp.where(annual_median.tp == annual_median_xy['tp'].iloc[0])\n",
    "\n",
    "# annual_tp_where"
   ]
  },
  {
   "cell_type": "code",
   "execution_count": null,
   "id": "50e99db1-bb1b-49e3-9703-6d7e7f6fda11",
   "metadata": {},
   "outputs": [],
   "source": [
    "annual_tp_where = annual_tp_where.drop('spatial_ref')\n"
   ]
  },
  {
   "cell_type": "code",
   "execution_count": null,
   "id": "a98e0452-322f-4de7-a82e-33eb32a41ffe",
   "metadata": {},
   "outputs": [],
   "source": [
    "annual_tp_where[1,:,:].plot()\n",
    "\n"
   ]
  },
  {
   "cell_type": "code",
   "execution_count": null,
   "id": "148034d0-2681-440b-b2bc-44b9059339e6",
   "metadata": {},
   "outputs": [],
   "source": []
  },
  {
   "cell_type": "code",
   "execution_count": null,
   "id": "c42f68cd-8934-45f8-97ab-8a1255844b4c",
   "metadata": {},
   "outputs": [],
   "source": []
  },
  {
   "cell_type": "code",
   "execution_count": null,
   "id": "0eedeb56-cf72-4eab-90b6-e4f13ab08ed1",
   "metadata": {},
   "outputs": [],
   "source": []
  },
  {
   "cell_type": "code",
   "execution_count": null,
   "id": "e3bc837a-550e-4172-b842-10a0f8949b96",
   "metadata": {},
   "outputs": [],
   "source": []
  },
  {
   "cell_type": "code",
   "execution_count": null,
   "id": "0addad49-14c9-4dd5-8c41-c978762243a6",
   "metadata": {},
   "outputs": [],
   "source": []
  },
  {
   "cell_type": "code",
   "execution_count": null,
   "id": "41976b7d-f4f5-4780-baeb-9df0ec0eabc6",
   "metadata": {},
   "outputs": [],
   "source": []
  },
  {
   "cell_type": "code",
   "execution_count": null,
   "id": "aeb4cc26-e89e-4837-8ddf-d007beeedd90",
   "metadata": {},
   "outputs": [],
   "source": []
  },
  {
   "cell_type": "code",
   "execution_count": null,
   "id": "280dcbee-09eb-42be-97c2-5572fbc9ff19",
   "metadata": {},
   "outputs": [],
   "source": []
  },
  {
   "cell_type": "code",
   "execution_count": null,
   "id": "1b6e6f2a-b657-4211-9a6e-448383f44c9c",
   "metadata": {},
   "outputs": [],
   "source": []
  },
  {
   "cell_type": "code",
   "execution_count": null,
   "id": "c6d837ed-7bec-4937-803e-eadd0f89d327",
   "metadata": {},
   "outputs": [],
   "source": []
  },
  {
   "cell_type": "code",
   "execution_count": null,
   "id": "34791c56-2494-4c3d-94ee-e036011d57b3",
   "metadata": {},
   "outputs": [],
   "source": []
  },
  {
   "cell_type": "code",
   "execution_count": null,
   "id": "c77e624a-6fca-4eca-a669-fb1c51eab24a",
   "metadata": {
    "jp-MarkdownHeadingCollapsed": true,
    "tags": []
   },
   "outputs": [],
   "source": [
    "# resample things somehow? \n",
    "\n",
    "# resample for the YEAR resolution: \n",
    "# 1. precipitation: (1) take annual sum (2) ???"
   ]
  },
  {
   "cell_type": "code",
   "execution_count": null,
   "id": "c5f81711-2a77-48ac-96f7-fe2c5fa940c0",
   "metadata": {},
   "outputs": [],
   "source": [
    "# to select mnt-range by name see this: \n",
    "# https://github.com/pydata/xarray/issues/501"
   ]
  },
  {
   "cell_type": "code",
   "execution_count": null,
   "id": "e5561e5b-b398-487d-9ea1-5e697dd7319f",
   "metadata": {},
   "outputs": [],
   "source": []
  },
  {
   "cell_type": "code",
   "execution_count": null,
   "id": "ebc0b718-9cd0-48e5-8698-1a544d98ddbb",
   "metadata": {},
   "outputs": [],
   "source": []
  },
  {
   "cell_type": "code",
   "execution_count": null,
   "id": "65fc174c-c543-46b3-929c-95966176ea3a",
   "metadata": {},
   "outputs": [],
   "source": []
  }
 ],
 "metadata": {
  "kernelspec": {
   "display_name": "Python [conda env:project1] *",
   "language": "python",
   "name": "conda-env-project1-py"
  },
  "language_info": {
   "codemirror_mode": {
    "name": "ipython",
    "version": 3
   },
   "file_extension": ".py",
   "mimetype": "text/x-python",
   "name": "python",
   "nbconvert_exporter": "python",
   "pygments_lexer": "ipython3",
   "version": "3.7.11"
  }
 },
 "nbformat": 4,
 "nbformat_minor": 5
}
