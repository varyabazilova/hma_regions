{
 "cells": [
  {
   "cell_type": "code",
   "execution_count": 1,
   "id": "78a298f8-dba3-4ced-99af-c0443fd78209",
   "metadata": {},
   "outputs": [],
   "source": [
    "import pandas as pd\n",
    "import numpy as np\n",
    "import xarray as xr\n",
    "import geopandas as gpd\n",
    "from glob import glob\n",
    "\n",
    "import matplotlib.pyplot as plt\n",
    "\n",
    "import rioxarray as rio\n",
    "from shapely.geometry import mapping\n",
    "\n",
    "%matplotlib inline\n",
    "# %matplotlib widget"
   ]
  },
  {
   "cell_type": "code",
   "execution_count": 2,
   "id": "4ebc5a0a-7510-4335-bca4-c2e1a35dcba3",
   "metadata": {},
   "outputs": [],
   "source": [
    "# wrap locating of the median points into a function: "
   ]
  },
  {
   "cell_type": "markdown",
   "id": "95f2ce04-ad39-4650-97ea-87c3186567b0",
   "metadata": {},
   "source": [
    "### (1) read .shp"
   ]
  },
  {
   "cell_type": "code",
   "execution_count": 3,
   "id": "ee26fa58-31e5-4842-978b-c82a97b55f3a",
   "metadata": {},
   "outputs": [],
   "source": [
    "hma = gpd.read_file('HMA_regions/HMA_regions.shp')\n",
    "# hma.plot()\n",
    "\n",
    "# as dataframe\n",
    "hma_df = pd.DataFrame(hma) "
   ]
  },
  {
   "cell_type": "markdown",
   "id": "75f05752-842d-4cab-a52a-9609bce435c9",
   "metadata": {},
   "source": [
    "### (2) read climate"
   ]
  },
  {
   "cell_type": "code",
   "execution_count": 4,
   "id": "c2b8f9cd-9dc5-4d8f-bf7d-cfc36b17aa51",
   "metadata": {},
   "outputs": [],
   "source": [
    "climate = xr.open_mfdataset('*.nc', decode_coords=\"all\")\n",
    "# cnange units (and overwrite the metadata with the units after)\n",
    "\n",
    "# ------ UNITS ------\n",
    "\n",
    "#convert temperature K to C\n",
    "climate['t2m']=climate.t2m-273.15\n",
    "# precipotation m to mm \n",
    "climate['tp']=climate.tp * 1000\n",
    "# radiation j/m2 to w/m2\n",
    "# SSR [W/m2] = SSR [J/m^2] / (3600 seconds)\n",
    "climate['ssrd'] = climate.ssrd / 3600\n",
    "\n",
    "# ------ CRS ----------\n",
    "\n",
    "# add crs to the dataset (netcdf file) - maybe this is not even needed \n",
    "climate = climate.rio.write_crs('EPSG:4326')\n",
    "\n"
   ]
  },
  {
   "cell_type": "code",
   "execution_count": 5,
   "id": "8e66c156-fb8a-4569-83aa-aa0a1d4128e1",
   "metadata": {},
   "outputs": [],
   "source": [
    "#\n",
    "\n",
    "climate_median = climate.median(dim='time', keep_attrs = True, skipna=True)\n",
    "\n",
    "# climate_median"
   ]
  },
  {
   "cell_type": "code",
   "execution_count": 6,
   "id": "0a251287-9a6f-44d1-aa22-5d6fcefca2f2",
   "metadata": {},
   "outputs": [],
   "source": [
    "# hma = hma[hma['Name'] == hma_df.Name[21]]\n",
    "\n",
    "hma_df = hma_df[:3]"
   ]
  },
  {
   "cell_type": "code",
   "execution_count": 13,
   "id": "99c07322-d416-4be8-b9c2-21ce5875d3ab",
   "metadata": {},
   "outputs": [],
   "source": [
    "# hma_df"
   ]
  },
  {
   "cell_type": "markdown",
   "id": "7603e1f7-ee91-4624-bc71-9069f3add470",
   "metadata": {},
   "source": [
    "### (3) function: "
   ]
  },
  {
   "cell_type": "code",
   "execution_count": 7,
   "id": "6b04b42f-758a-48e0-9576-d93a3d2c84bd",
   "metadata": {},
   "outputs": [],
   "source": [
    "# function for median: \n",
    "\n",
    "def median_ceil(values):\n",
    "    values = sorted(values)\n",
    "    values_len = len(values)\n",
    "    middle = values_len//2\n",
    "    return values[middle]\n"
   ]
  },
  {
   "cell_type": "code",
   "execution_count": 7,
   "id": "75bbe746-b2a6-4468-8740-67060098193d",
   "metadata": {},
   "outputs": [],
   "source": [
    "# climate_median.t2m.plot()"
   ]
  },
  {
   "cell_type": "code",
   "execution_count": 10,
   "id": "241739b2-44fc-4fe2-9908-596cbb5d7bad",
   "metadata": {},
   "outputs": [
    {
     "data": {
      "text/plain": [
       "<GeometryArray>\n",
       "[<shapely.geometry.polygon.Polygon object at 0x7fa07ae57250>,\n",
       " <shapely.geometry.polygon.Polygon object at 0x7fa0b9633b50>,\n",
       " <shapely.geometry.polygon.Polygon object at 0x7fa078acf490>,\n",
       " <shapely.geometry.polygon.Polygon object at 0x7fa07aeb7590>,\n",
       " <shapely.geometry.polygon.Polygon object at 0x7fa07aea0e10>,\n",
       " <shapely.geometry.polygon.Polygon object at 0x7fa07aeb7c90>,\n",
       " <shapely.geometry.polygon.Polygon object at 0x7fa07aeb7c50>,\n",
       " <shapely.geometry.polygon.Polygon object at 0x7fa07aed3410>,\n",
       " <shapely.geometry.polygon.Polygon object at 0x7fa07aed3790>,\n",
       " <shapely.geometry.polygon.Polygon object at 0x7fa07aed3ad0>,\n",
       " <shapely.geometry.polygon.Polygon object at 0x7fa07aed3e90>,\n",
       " <shapely.geometry.polygon.Polygon object at 0x7fa07aed3e50>,\n",
       " <shapely.geometry.polygon.Polygon object at 0x7fa07aedc610>,\n",
       " <shapely.geometry.polygon.Polygon object at 0x7fa07aedc990>,\n",
       " <shapely.geometry.polygon.Polygon object at 0x7fa07aedcd50>,\n",
       " <shapely.geometry.polygon.Polygon object at 0x7fa07aedcd10>,\n",
       " <shapely.geometry.polygon.Polygon object at 0x7fa07aed44d0>,\n",
       " <shapely.geometry.polygon.Polygon object at 0x7fa07aed4850>,\n",
       " <shapely.geometry.polygon.Polygon object at 0x7fa07aed4c10>,\n",
       " <shapely.geometry.polygon.Polygon object at 0x7fa07aed4f90>,\n",
       " <shapely.geometry.polygon.Polygon object at 0x7fa07aed4f50>,\n",
       " <shapely.geometry.polygon.Polygon object at 0x7fa07aec1710>]\n",
       "Length: 22, dtype: geometry"
      ]
     },
     "execution_count": 10,
     "metadata": {},
     "output_type": "execute_result"
    }
   ],
   "source": [
    "hma.geometry.values\n",
    "# hma_df.values"
   ]
  },
  {
   "cell_type": "code",
   "execution_count": 12,
   "id": "057e6f4b-61f6-4e55-9dad-011207f28eec",
   "metadata": {},
   "outputs": [
    {
     "ename": "AttributeError",
     "evalue": "'Polygon' object has no attribute 'geometry'",
     "output_type": "error",
     "traceback": [
      "\u001b[0;31m---------------------------------------------------------------------------\u001b[0m",
      "\u001b[0;31mAttributeError\u001b[0m                            Traceback (most recent call last)",
      "\u001b[0;32m<timed exec>\u001b[0m in \u001b[0;36m<module>\u001b[0;34m\u001b[0m\n",
      "\u001b[0;31mAttributeError\u001b[0m: 'Polygon' object has no attribute 'geometry'"
     ]
    }
   ],
   "source": [
    "%%time\n",
    "# for every geometry in hma\n",
    "\n",
    "# t2m_median = roi_climate_median_df[roi_climate_median_df.t2m==median_ceil(values=roi_climate_median_df.t2m)]\n",
    "\n",
    "name = []\n",
    "value = []\n",
    "lats = []\n",
    "lons = []\n",
    "\n",
    "\n",
    "for r in hma.geometry:\n",
    "        \n",
    "    # name:\n",
    "    # roi_name = str(hma.Name.values[0])\n",
    "    # name = np.append(name, roi_name)\n",
    "    # roi_ind = r.index    \n",
    "    # print(roi_ind)\n",
    "    # name = np.append(name, roi_ind)\n",
    "    \n",
    "    # clip:\n",
    "    clipped = climate_median.rio.clip(r.geometry, r.crs, drop=True, invert=False)\n",
    "    \n",
    "    # sanity check\n",
    "    # clipped.t2m.plot()\n",
    "    \n",
    "    # to dataframe:\n",
    "    df = clipped.to_dataframe().reset_index()\n",
    "    df = df.dropna().drop_duplicates()\n",
    "    \n",
    "    # median vallues for a parameter: \n",
    "    median_value = median_ceil(values=df.t2m)\n",
    "    # print('temp median value', median_value)\n",
    "    \n",
    "    # find index of this value:\n",
    "    row = df[df.t2m == median_value]\n",
    "    lat = row.latitude.values[0]\n",
    "    lon = row.longitude.values[0]\n",
    "    \n",
    "    print(lat)\n",
    "    \n",
    "    #add:\n",
    "    value = np.append(value, median_value)\n",
    "    lats = np.append(lats, lat)\n",
    "    lons = np.append(lons, lon)\n",
    "\n",
    "    # print('name:', name)\n",
    "    # print('lat', lat)\n",
    "    # print('lon', lon)\n",
    "\n",
    "    "
   ]
  },
  {
   "cell_type": "markdown",
   "id": "c902be48-6c57-45e8-a9c6-2987c60d7359",
   "metadata": {},
   "source": [
    "lats\n",
    "lons\n",
    "value\n",
    "name"
   ]
  },
  {
   "cell_type": "code",
   "execution_count": null,
   "id": "732655e4-a18b-4a25-b75c-63581e645018",
   "metadata": {},
   "outputs": [],
   "source": [
    "table = pd.DataFrame([name, lats, lons, value]).transpose()"
   ]
  },
  {
   "cell_type": "code",
   "execution_count": null,
   "id": "ce72afcf-6a2d-4866-b02e-2bab12b9f952",
   "metadata": {},
   "outputs": [],
   "source": [
    "table"
   ]
  },
  {
   "cell_type": "code",
   "execution_count": null,
   "id": "631ce221-5463-4320-8b7c-72315f5fe930",
   "metadata": {},
   "outputs": [],
   "source": [
    "name"
   ]
  },
  {
   "cell_type": "code",
   "execution_count": 23,
   "id": "de22eb3f-9f6b-42c9-b829-003ac6ace05c",
   "metadata": {},
   "outputs": [
    {
     "data": {
      "text/plain": [
       "array([90.5, 90.5, 90.5])"
      ]
     },
     "execution_count": 23,
     "metadata": {},
     "output_type": "execute_result"
    }
   ],
   "source": [
    "lons"
   ]
  },
  {
   "cell_type": "code",
   "execution_count": null,
   "id": "2a1b8e76-9ff6-43f5-88b5-02546a718781",
   "metadata": {},
   "outputs": [],
   "source": []
  }
 ],
 "metadata": {
  "kernelspec": {
   "display_name": "Python [conda env:project1] *",
   "language": "python",
   "name": "conda-env-project1-py"
  },
  "language_info": {
   "codemirror_mode": {
    "name": "ipython",
    "version": 3
   },
   "file_extension": ".py",
   "mimetype": "text/x-python",
   "name": "python",
   "nbconvert_exporter": "python",
   "pygments_lexer": "ipython3",
   "version": "3.7.11"
  }
 },
 "nbformat": 4,
 "nbformat_minor": 5
}
