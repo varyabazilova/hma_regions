{
 "cells": [
  {
   "cell_type": "code",
   "execution_count": 1,
   "id": "df87390f-bc9e-4c25-aa13-cfdf985df0e2",
   "metadata": {},
   "outputs": [],
   "source": [
    "import pandas as pd\n",
    "import numpy as np\n",
    "import xarray as xr\n",
    "import geopandas as gpd\n",
    "from glob import glob\n",
    "\n",
    "import matplotlib.pyplot as plt\n",
    "\n",
    "import rioxarray as rio\n",
    "from shapely.geometry import mapping\n",
    "\n",
    "%matplotlib inline\n",
    "# %matplotlib widget"
   ]
  },
  {
   "cell_type": "code",
   "execution_count": null,
   "id": "ba1d825b-4976-43b4-bab5-38f49d60e075",
   "metadata": {},
   "outputs": [],
   "source": [
    "## loop for finding the coordinates of the pixel of inetrest: \n",
    "# (1) import data and "
   ]
  }
 ],
 "metadata": {
  "kernelspec": {
   "display_name": "Python 3 (ipykernel)",
   "language": "python",
   "name": "python3"
  },
  "language_info": {
   "codemirror_mode": {
    "name": "ipython",
    "version": 3
   },
   "file_extension": ".py",
   "mimetype": "text/x-python",
   "name": "python",
   "nbconvert_exporter": "python",
   "pygments_lexer": "ipython3",
   "version": "3.9.7"
  }
 },
 "nbformat": 4,
 "nbformat_minor": 5
}
