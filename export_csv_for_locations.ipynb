{
 "cells": [
  {
   "cell_type": "code",
   "execution_count": null,
   "id": "61688b3c-e40c-4200-9cb7-19da7868736f",
   "metadata": {},
   "outputs": [],
   "source": [
    "# in this notebook varya is trying to export the median point (from the precipitation) from HMA - regions \n",
    "# to a dataframe and then later csv file to use as a forsing for testrun of sedcas model \n",
    "\n",
    "# take the locations determined in a different notebook (also stored in some csv file already)\n",
    "# loop through every file that is in the folder on the server:\n",
    "#    find location. select data \n",
    "#    \n",
    "\n",
    "# find that location in the HMA climate from the server \n",
    "# convert to csv \n",
    "# save \n"
   ]
  },
  {
   "cell_type": "code",
   "execution_count": 77,
   "id": "e012c353-5572-49b5-8259-f5f4fd3c7b7e",
   "metadata": {},
   "outputs": [],
   "source": [
    "import pandas as pd\n",
    "import numpy as np\n",
    "import xarray as xr\n",
    "import matplotlib.pyplot as plt\n",
    "import geopandas as gpd\n",
    "import os\n",
    "import glob\n",
    "\n",
    "from datetime import datetime\n",
    "\n",
    "\n",
    "%matplotlib inline"
   ]
  },
  {
   "cell_type": "markdown",
   "id": "71a090d2-dfe0-4526-b919-633c1c7d1c6a",
   "metadata": {},
   "source": [
    "## workapathround (make netcdf conversion to df faster): \n",
    "\n",
    "### (this is an important part) "
   ]
  },
  {
   "cell_type": "markdown",
   "id": "be5b2b2d-ebad-4ce4-a590-04e2a45bb8ad",
   "metadata": {},
   "source": [
    "### locations from csv and .shp file"
   ]
  },
  {
   "cell_type": "code",
   "execution_count": 4,
   "id": "df80741f-9a03-4f1d-8aea-95527e5d147f",
   "metadata": {},
   "outputs": [],
   "source": [
    "# read locations file - for annual sum precipitations: \n",
    "locations_pr = pd.read_table('out/median_annual_precip_regions.csv', sep = ',',index_col =0)\n",
    "\n",
    "# read locations file - for annial median temp:\n",
    "locations_t2m = pd.read_table('out/annual_median_t2m_regions.csv', sep = ',', index_col = 0)\n",
    "\n",
    "# read hma polygons file to a df:\n",
    "hma = gpd.read_file('HMA_regions/HMA_regions.shp')\n",
    "hma_df = pd.DataFrame(hma) "
   ]
  },
  {
   "cell_type": "markdown",
   "id": "9b6817ec-e659-44d0-99e1-b0cea8fde8e3",
   "metadata": {},
   "source": [
    "### path to folders and output to where save data "
   ]
  },
  {
   "cell_type": "code",
   "execution_count": 5,
   "id": "d16e95e5-7cee-4d32-8635-c9771d8c544f",
   "metadata": {},
   "outputs": [],
   "source": [
    "path_temp = '/Volumes/Data/Repository/external_data/ERA5/HMA/netcdf/hourly/2m-temperature/'\n",
    "\n",
    "# precipitations\n",
    "path_precip = '/Volumes/Data/Repository/external_data/ERA5/HMA/netcdf/hourly/total-precipitation/'\n",
    "\n",
    "# total cloud cover \n",
    "path_clouds = '/Volumes/Data/Repository/external_data/ERA5/HMA/netcdf/hourly/total-cloud-cover/'\n",
    "\n",
    "# incoming radiation \n",
    "path_radiation = '/Volumes/Data/Repository/external_data/ERA5/HMA/netcdf/hourly/surface-solar-radiation-downwards/'\n",
    "\n",
    "\n",
    "# path for output timeseries\n",
    "path_output = \"/Users/varyabazilova/Desktop/hma_regions/out/timeseries\"\n"
   ]
  },
  {
   "cell_type": "markdown",
   "id": "2bad97a3-ac02-49e2-83f8-d18e22d9ef9c",
   "metadata": {},
   "source": [
    "### what mountain range are we looking at? \n"
   ]
  },
  {
   "cell_type": "code",
   "execution_count": 18,
   "id": "e6220775-9960-44c8-b213-54b285507b1b",
   "metadata": {},
   "outputs": [
    {
     "name": "stdout",
     "output_type": "stream",
     "text": [
      "name of mnt range: Tibetan Interior Mountains\n"
     ]
    }
   ],
   "source": [
    "# take the n index of the \"locations precipitation\" table \n",
    "\n",
    "n = 13\n",
    "print('name of mnt range:', hma_df.Name[n])\n",
    "\n",
    "point_lat = locations_pr.latitude[n]\n",
    "point_lon = locations_pr.longitude[n]\n",
    "\n",
    "# print(datetime.now())"
   ]
  },
  {
   "cell_type": "markdown",
   "id": "e3682942-ccc0-4978-aa9d-22f0d2f59dcc",
   "metadata": {},
   "source": [
    "### loop: get the csv for selected point (one mnt range) for each parameter "
   ]
  },
  {
   "cell_type": "code",
   "execution_count": 8,
   "id": "8df821d1-1e60-40ea-966a-7f119fc4522c",
   "metadata": {},
   "outputs": [
    {
     "data": {
      "text/plain": [
       "'%%time\\n\\n# temperatures\\n\\nprint(\\'started at:\\', datetime.now())\\n\\nfor n, f in enumerate(os.listdir(path_temp)):\\n    # read every file\\n    ds = xr.open_dataset(os.path.join(path_temp, f), decode_coords=\"all\")\\n    # select coordinates: \\n    ds = ds.sel(latitude = point_lat, longitude = point_lon, method = \\'nearest\\')\\n    # kick out the expver dimention\\n    # ds = ds.sel(expver= slice(0, 1))\\n    # ds = ds.squeeze()\\n    ds = ds.drop(labels = [\\'longitude\\', \\'latitude\\']).squeeze()\\n    \\n    # check:\\n    print(\\'ready to turn into df at:\\', datetime.now())\\n    \\n    # convert to dataframe\\n    ds_df = ds.to_dataframe().dropna().drop_duplicates()\\n    \\n    # export:\\n    # 1. create a year \\n    year = n + 1979\\n    # 2. save to csv\\n    ds_df.to_csv(path_output_temp + \\'_temp_{y}.csv\\'.format(y=year))\\n    \\n    print(\\'year - done:\\', year)\\n    print(\\'done at:\\', datetime.now())\\n    \\n '"
      ]
     },
     "execution_count": 8,
     "metadata": {},
     "output_type": "execute_result"
    }
   ],
   "source": [
    "'''%%time\n",
    "\n",
    "# temperatures\n",
    "\n",
    "print('started at:', datetime.now())\n",
    "\n",
    "for n, f in enumerate(os.listdir(path_temp)):\n",
    "    # read every file\n",
    "    ds = xr.open_dataset(os.path.join(path_temp, f), decode_coords=\"all\")\n",
    "    # select coordinates: \n",
    "    ds = ds.sel(latitude = point_lat, longitude = point_lon, method = 'nearest')\n",
    "    # kick out the expver dimention\n",
    "    # ds = ds.sel(expver= slice(0, 1))\n",
    "    # ds = ds.squeeze()\n",
    "    ds = ds.drop(labels = ['longitude', 'latitude']).squeeze()\n",
    "    \n",
    "    # check:\n",
    "    print('ready to turn into df at:', datetime.now())\n",
    "    \n",
    "    # convert to dataframe\n",
    "    ds_df = ds.to_dataframe().dropna().drop_duplicates()\n",
    "    \n",
    "    # export:\n",
    "    # 1. create a year \n",
    "    year = n + 1979\n",
    "    # 2. save to csv\n",
    "    ds_df.to_csv(path_output + '_temp_{y}.csv'.format(y=year))\n",
    "    \n",
    "    print('year - done:', year)\n",
    "    print('done at:', datetime.now())\n",
    "    \n",
    " '''\n"
   ]
  },
  {
   "cell_type": "code",
   "execution_count": 12,
   "id": "1f132422-fcff-447b-b082-d6d529fe6fe9",
   "metadata": {},
   "outputs": [
    {
     "data": {
      "text/plain": [
       "'%%time\\n\\n# precipitation \\n\\nprint(\\'started at:\\', datetime.now())\\n\\nfor n, f in enumerate(os.listdir(path_precip)):\\n    # read every file\\n    ds = xr.open_dataset(os.path.join(path_precip, f), decode_coords=\"all\")\\n    # select coordinates: \\n    ds = ds.sel(latitude = point_lat, longitude = point_lon, method = \\'nearest\\')\\n    # kick out the expver dimention\\n    # ds = ds.sel(expver= slice(0, 1))\\n    # ds = ds.squeeze()\\n    ds = ds.drop(labels = [\\'longitude\\', \\'latitude\\']).squeeze()\\n    \\n    # check:\\n    print(\\'ready to turn into df at:\\', datetime.now())\\n    \\n    # convert to dataframe\\n    ds_df = ds.to_dataframe().dropna().drop_duplicates()\\n    \\n    # export:\\n    # 1. create a year \\n    year = n + 1979\\n    # 2. save to csv\\n    ds_df.to_csv(path_output + \\'_precip_{y}.csv\\'.format(y=year))\\n    \\n    print(\\'year - done:\\', year)\\n    print(\\'done at:\\', datetime.now())\\n    \\n'"
      ]
     },
     "execution_count": 12,
     "metadata": {},
     "output_type": "execute_result"
    }
   ],
   "source": [
    "'''%%time\n",
    "\n",
    "# precipitation \n",
    "\n",
    "print('started at:', datetime.now())\n",
    "\n",
    "for n, f in enumerate(os.listdir(path_precip)):\n",
    "    # read every file\n",
    "    ds = xr.open_dataset(os.path.join(path_precip, f), decode_coords=\"all\")\n",
    "    # select coordinates: \n",
    "    ds = ds.sel(latitude = point_lat, longitude = point_lon, method = 'nearest')\n",
    "    # kick out the expver dimention\n",
    "    # ds = ds.sel(expver= slice(0, 1))\n",
    "    # ds = ds.squeeze()\n",
    "    ds = ds.drop(labels = ['longitude', 'latitude']).squeeze()\n",
    "    \n",
    "    # check:\n",
    "    print('ready to turn into df at:', datetime.now())\n",
    "    \n",
    "    # convert to dataframe\n",
    "    ds_df = ds.to_dataframe().dropna().drop_duplicates()\n",
    "    \n",
    "    # export:\n",
    "    # 1. create a year \n",
    "    year = n + 1979\n",
    "    # 2. save to csv\n",
    "    ds_df.to_csv(path_output + '_precip_{y}.csv'.format(y=year))\n",
    "    \n",
    "    print('year - done:', year)\n",
    "    print('done at:', datetime.now())\n",
    "    \n",
    "''' \n",
    "\n"
   ]
  },
  {
   "cell_type": "code",
   "execution_count": 14,
   "id": "bf3ffdde-f91e-4aae-a34c-c1fcf93dad2d",
   "metadata": {},
   "outputs": [
    {
     "data": {
      "text/plain": [
       "'%%time\\n\\n# clouds \\n\\nprint(\\'started at:\\', datetime.now())\\n\\nfor n, f in enumerate(os.listdir(path_clouds)):\\n    # read every file\\n    ds = xr.open_dataset(os.path.join(path_clouds, f), decode_coords=\"all\")\\n    # select coordinates: \\n    ds = ds.sel(latitude = point_lat, longitude = point_lon, method = \\'nearest\\')\\n    # kick out the expver dimention\\n    # ds = ds.sel(expver= slice(0, 1))\\n    # ds = ds.squeeze()\\n    ds = ds.drop(labels = [\\'longitude\\', \\'latitude\\']).squeeze()\\n    \\n    # check:\\n    print(\\'ready to turn into df at:\\', datetime.now())\\n    \\n    # convert to dataframe\\n    ds_df = ds.to_dataframe().dropna().drop_duplicates()\\n    \\n    # export:\\n    # 1. create a year \\n    year = n + 1979\\n    # 2. save to csv\\n    ds_df.to_csv(path_output + \\'_cloud_cover_{y}.csv\\'.format(y=year))\\n    \\n    print(\\'year - done:\\', year)\\n    print(\\'done at:\\', datetime.now())\\n    \\n '"
      ]
     },
     "execution_count": 14,
     "metadata": {},
     "output_type": "execute_result"
    }
   ],
   "source": [
    "'''%%time\n",
    "\n",
    "# clouds \n",
    "\n",
    "print('started at:', datetime.now())\n",
    "\n",
    "for n, f in enumerate(os.listdir(path_clouds)):\n",
    "    # read every file\n",
    "    ds = xr.open_dataset(os.path.join(path_clouds, f), decode_coords=\"all\")\n",
    "    # select coordinates: \n",
    "    ds = ds.sel(latitude = point_lat, longitude = point_lon, method = 'nearest')\n",
    "    # kick out the expver dimention\n",
    "    # ds = ds.sel(expver= slice(0, 1))\n",
    "    # ds = ds.squeeze()\n",
    "    ds = ds.drop(labels = ['longitude', 'latitude']).squeeze()\n",
    "    \n",
    "    # check:\n",
    "    print('ready to turn into df at:', datetime.now())\n",
    "    \n",
    "    # convert to dataframe\n",
    "    ds_df = ds.to_dataframe().dropna().drop_duplicates()\n",
    "    \n",
    "    # export:\n",
    "    # 1. create a year \n",
    "    year = n + 1979\n",
    "    # 2. save to csv\n",
    "    ds_df.to_csv(path_output + '_cloud_cover_{y}.csv'.format(y=year))\n",
    "    \n",
    "    print('year - done:', year)\n",
    "    print('done at:', datetime.now())\n",
    "    \n",
    " '''\n",
    "\n"
   ]
  },
  {
   "cell_type": "code",
   "execution_count": 16,
   "id": "2d80e5d3-3802-4f0f-83a4-09445b503d4b",
   "metadata": {},
   "outputs": [
    {
     "data": {
      "text/plain": [
       "'%%time\\n\\n# radiation \\n\\nprint(\\'started at:\\', datetime.now())\\n\\nfor n, f in enumerate(os.listdir(path_radiation)):\\n    # read every file\\n    ds = xr.open_dataset(os.path.join(path_radiation, f), decode_coords=\"all\")\\n    # select coordinates: \\n    ds = ds.sel(latitude = point_lat, longitude = point_lon, method = \\'nearest\\')\\n    # kick out the expver dimention\\n    # ds = ds.sel(expver= slice(0, 1))\\n    # ds = ds.squeeze()\\n    ds = ds.drop(labels = [\\'longitude\\', \\'latitude\\']).squeeze()\\n    \\n    # check:\\n    print(\\'ready to turn into df at:\\', datetime.now())\\n    \\n    # convert to dataframe\\n    ds_df = ds.to_dataframe().dropna().drop_duplicates()\\n    \\n    # export:\\n    # 1. create a year \\n    year = n + 1979\\n    # 2. save to csv\\n    ds_df.to_csv(path_output + \\'_SWradiation_{y}.csv\\'.format(y=year))\\n    \\n    print(\\'year - done:\\', year)\\n    print(\\'done at:\\', datetime.now())\\n    '"
      ]
     },
     "execution_count": 16,
     "metadata": {},
     "output_type": "execute_result"
    }
   ],
   "source": [
    "'''%%time\n",
    "\n",
    "# radiation \n",
    "\n",
    "print('started at:', datetime.now())\n",
    "\n",
    "for n, f in enumerate(os.listdir(path_radiation)):\n",
    "    # read every file\n",
    "    ds = xr.open_dataset(os.path.join(path_radiation, f), decode_coords=\"all\")\n",
    "    # select coordinates: \n",
    "    ds = ds.sel(latitude = point_lat, longitude = point_lon, method = 'nearest')\n",
    "    # kick out the expver dimention\n",
    "    # ds = ds.sel(expver= slice(0, 1))\n",
    "    # ds = ds.squeeze()\n",
    "    ds = ds.drop(labels = ['longitude', 'latitude']).squeeze()\n",
    "    \n",
    "    # check:\n",
    "    print('ready to turn into df at:', datetime.now())\n",
    "    \n",
    "    # convert to dataframe\n",
    "    ds_df = ds.to_dataframe().dropna().drop_duplicates()\n",
    "    \n",
    "    # export:\n",
    "    # 1. create a year \n",
    "    year = n + 1979\n",
    "    # 2. save to csv\n",
    "    ds_df.to_csv(path_output + '_SWradiation_{y}.csv'.format(y=year))\n",
    "    \n",
    "    print('year - done:', year)\n",
    "    print('done at:', datetime.now())\n",
    "    '''\n",
    " "
   ]
  },
  {
   "cell_type": "markdown",
   "id": "f44af4f5-a22e-4a8e-9a31-f304055b9566",
   "metadata": {
    "tags": []
   },
   "source": [
    "### read created .csv-s and attach them together (separately for each variable) "
   ]
  },
  {
   "cell_type": "code",
   "execution_count": 127,
   "id": "57cbf68b-9bb1-4f77-a8a2-8646d700e13b",
   "metadata": {},
   "outputs": [],
   "source": [
    "# region #1 temperatures \n",
    "\n",
    "files = glob.glob('/Users/varyabazilova/Desktop/hma_regions/out/timeseries/1_Western Himalaya/temp/*.csv')\n",
    "\n",
    "df_all = []\n",
    "\n",
    "for f in files:\n",
    "    df = pd.read_csv(f, sep = ',')\n",
    "    df_all.append(df)\n",
    "\n",
    "temps_region1 = pd.concat(df_all).sort_values('time').drop('expver', axis=1).set_index('time')\n",
    "# temps_region1.to_csv('/Users/varyabazilova/Desktop/hma_regions/out/timeseries/1_Western Himalaya/temps_1979_2020.csv')\n"
   ]
  },
  {
   "cell_type": "code",
   "execution_count": 126,
   "id": "91c69801-2cd5-4fcd-a091-359bb02db38e",
   "metadata": {},
   "outputs": [],
   "source": [
    "# temps_region1"
   ]
  },
  {
   "cell_type": "code",
   "execution_count": 133,
   "id": "32ef846e-fc95-410f-a440-a68b84d5be76",
   "metadata": {},
   "outputs": [],
   "source": [
    "# region #1 precipitation \n",
    "\n",
    "files = glob.glob('/Users/varyabazilova/Desktop/hma_regions/out/timeseries/1_Western Himalaya/precip/*.csv')\n",
    "\n",
    "df_all = []\n",
    "\n",
    "for f in files:\n",
    "    df = pd.read_csv(f, sep = ',')\n",
    "    df_all.append(df)\n",
    "\n",
    "precip_region1 = pd.concat(df_all).sort_values('time').drop('expver', axis=1).set_index('time')\n",
    "# precip_region1.to_csv('/Users/varyabazilova/Desktop/hma_regions/out/timeseries/1_Western Himalaya/precip_1979_2020.csv')\n",
    "\n"
   ]
  },
  {
   "cell_type": "code",
   "execution_count": 139,
   "id": "7b86c605-2c56-482b-8293-4b75ea4b0410",
   "metadata": {},
   "outputs": [],
   "source": [
    "# region #1 clouds \n",
    "\n",
    "files = glob.glob('/Users/varyabazilova/Desktop/hma_regions/out/timeseries/1_Western Himalaya/clouds/*.csv')\n",
    "\n",
    "df_all = []\n",
    "\n",
    "for f in files:\n",
    "    df = pd.read_csv(f, sep = ',')\n",
    "    df_all.append(df)\n",
    "\n",
    "clouds_region1 = pd.concat(df_all).sort_values('time').drop('expver', axis=1).set_index('time')\n",
    "# clouds_region1.to_csv('/Users/varyabazilova/Desktop/hma_regions/out/timeseries/1_Western Himalaya/clouds_1979_2020.csv')\n",
    "\n"
   ]
  },
  {
   "cell_type": "code",
   "execution_count": null,
   "id": "0d97c055-c617-4cbe-97d0-85a0f4e82b95",
   "metadata": {},
   "outputs": [],
   "source": []
  },
  {
   "cell_type": "code",
   "execution_count": 143,
   "id": "2bc6271c-ec5f-4f57-946e-eb28b9ee0323",
   "metadata": {},
   "outputs": [],
   "source": [
    "# region #1 radiation \n",
    "\n",
    "files = glob.glob('/Users/varyabazilova/Desktop/hma_regions/out/timeseries/1_Western Himalaya/radiation/*.csv')\n",
    "\n",
    "df_all = []\n",
    "\n",
    "for f in files:\n",
    "    df = pd.read_csv(f, sep = ',')\n",
    "    df_all.append(df)\n",
    "\n",
    "swradiation_region1 = pd.concat(df_all).sort_values('time').drop('expver', axis=1).set_index('time')\n",
    "# swradiation_region1.to_csv('/Users/varyabazilova/Desktop/hma_regions/out/timeseries/1_Western Himalaya/SWradiation_1979_2020.csv')\n",
    "\n"
   ]
  },
  {
   "cell_type": "markdown",
   "id": "1389646e-1430-4f29-bdee-14a8acc664ff",
   "metadata": {},
   "source": [
    "### merge all variables together using 'time' as key \n"
   ]
  },
  {
   "cell_type": "code",
   "execution_count": 152,
   "id": "16e307b8-4307-4884-9b0d-62cbca9e305b",
   "metadata": {},
   "outputs": [],
   "source": [
    "# sample climate data - how it all is supposed to look like:\n",
    "\n",
    "sampleclimate = pd.read_csv('/Users/varyabazilova/Desktop/hma_regions/out/timeseries/1_Western Himalaya/sample_climate.met', sep = '\\t')\n",
    "# sampleclimate"
   ]
  },
  {
   "cell_type": "code",
   "execution_count": 214,
   "id": "2c50d26d-7a4a-43cc-8470-5f8f42e5a165",
   "metadata": {},
   "outputs": [],
   "source": [
    "# read all \n",
    "path = '/Users/varyabazilova/Desktop/hma_regions/out/timeseries/1_Western Himalaya'\n",
    "\n",
    "temps = pd.read_csv(path + '/temps_1979_2020.csv', index_col = 0)\n",
    "precip = pd.read_csv(path + '/precip_1979_2020.csv', index_col = 0)\n",
    "clouds = pd.read_csv(path + '/clouds_1979_2020.csv', index_col = 0)\n",
    "radiation = pd.read_csv(path + '/SWradiation_1979_2020.csv', index_col = 0)\n",
    "\n",
    "# slice data so it starts and ends at the same time\n",
    "start = '1990-01-01 00:00:00' \n",
    "end = '2010-01-01 00:00:00'\n",
    "\n",
    "temps = temps.loc[start:end,:]\n",
    "precip = precip.loc[start:end,:]\n",
    "clouds = clouds.loc[start:end,:]\n",
    "radiation = radiation.loc[start:end,:]"
   ]
  },
  {
   "cell_type": "code",
   "execution_count": 215,
   "id": "4bc5c536-b5d0-4f84-8084-fc2d19a0e068",
   "metadata": {},
   "outputs": [
    {
     "name": "stdout",
     "output_type": "stream",
     "text": [
      "temps length: 141157\n",
      "precip length: 19087\n",
      "clouds length: 92081\n",
      "radiation length: 87804\n"
     ]
    }
   ],
   "source": [
    "print('temps length:', len(temps)) \n",
    "print('precip length:', len(precip)) \n",
    "print('clouds length:', len(clouds)) \n",
    "print('radiation length:', len(radiation))\n"
   ]
  },
  {
   "cell_type": "code",
   "execution_count": 216,
   "id": "875444ff-f557-42c7-97bb-062c1d77c4b4",
   "metadata": {},
   "outputs": [
    {
     "ename": "AttributeError",
     "evalue": "'DataFrame' object has no attribute 'isnan'",
     "output_type": "error",
     "traceback": [
      "\u001b[0;31m---------------------------------------------------------------------------\u001b[0m",
      "\u001b[0;31mAttributeError\u001b[0m                            Traceback (most recent call last)",
      "\u001b[0;32m/var/folders/31/xdyntby945q7564txk4rqyh40000gp/T/ipykernel_2450/886389881.py\u001b[0m in \u001b[0;36m<module>\u001b[0;34m\u001b[0m\n\u001b[0;32m----> 1\u001b[0;31m \u001b[0mradiation\u001b[0m\u001b[0;34m.\u001b[0m\u001b[0misnan\u001b[0m\u001b[0;34m(\u001b[0m\u001b[0;34m)\u001b[0m\u001b[0;34m\u001b[0m\u001b[0;34m\u001b[0m\u001b[0m\n\u001b[0m",
      "\u001b[0;32m~/opt/anaconda3/envs/project1/lib/python3.7/site-packages/pandas/core/generic.py\u001b[0m in \u001b[0;36m__getattr__\u001b[0;34m(self, name)\u001b[0m\n\u001b[1;32m   5485\u001b[0m         ):\n\u001b[1;32m   5486\u001b[0m             \u001b[0;32mreturn\u001b[0m \u001b[0mself\u001b[0m\u001b[0;34m[\u001b[0m\u001b[0mname\u001b[0m\u001b[0;34m]\u001b[0m\u001b[0;34m\u001b[0m\u001b[0;34m\u001b[0m\u001b[0m\n\u001b[0;32m-> 5487\u001b[0;31m         \u001b[0;32mreturn\u001b[0m \u001b[0mobject\u001b[0m\u001b[0;34m.\u001b[0m\u001b[0m__getattribute__\u001b[0m\u001b[0;34m(\u001b[0m\u001b[0mself\u001b[0m\u001b[0;34m,\u001b[0m \u001b[0mname\u001b[0m\u001b[0;34m)\u001b[0m\u001b[0;34m\u001b[0m\u001b[0;34m\u001b[0m\u001b[0m\n\u001b[0m\u001b[1;32m   5488\u001b[0m \u001b[0;34m\u001b[0m\u001b[0m\n\u001b[1;32m   5489\u001b[0m     \u001b[0;32mdef\u001b[0m \u001b[0m__setattr__\u001b[0m\u001b[0;34m(\u001b[0m\u001b[0mself\u001b[0m\u001b[0;34m,\u001b[0m \u001b[0mname\u001b[0m\u001b[0;34m:\u001b[0m \u001b[0mstr\u001b[0m\u001b[0;34m,\u001b[0m \u001b[0mvalue\u001b[0m\u001b[0;34m)\u001b[0m \u001b[0;34m->\u001b[0m \u001b[0;32mNone\u001b[0m\u001b[0;34m:\u001b[0m\u001b[0;34m\u001b[0m\u001b[0;34m\u001b[0m\u001b[0m\n",
      "\u001b[0;31mAttributeError\u001b[0m: 'DataFrame' object has no attribute 'isnan'"
     ]
    }
   ],
   "source": []
  },
  {
   "cell_type": "code",
   "execution_count": 202,
   "id": "27917263-f94f-4348-b7d7-39efc9a54e6d",
   "metadata": {},
   "outputs": [
    {
     "data": {
      "text/html": [
       "<div>\n",
       "<style scoped>\n",
       "    .dataframe tbody tr th:only-of-type {\n",
       "        vertical-align: middle;\n",
       "    }\n",
       "\n",
       "    .dataframe tbody tr th {\n",
       "        vertical-align: top;\n",
       "    }\n",
       "\n",
       "    .dataframe thead th {\n",
       "        text-align: right;\n",
       "    }\n",
       "</style>\n",
       "<table border=\"1\" class=\"dataframe\">\n",
       "  <thead>\n",
       "    <tr style=\"text-align: right;\">\n",
       "      <th></th>\n",
       "      <th>tp</th>\n",
       "      <th>ssrd</th>\n",
       "    </tr>\n",
       "    <tr>\n",
       "      <th>time</th>\n",
       "      <th></th>\n",
       "      <th></th>\n",
       "    </tr>\n",
       "  </thead>\n",
       "  <tbody>\n",
       "    <tr>\n",
       "      <th>1979-01-01 07:00:00</th>\n",
       "      <td>0.000000</td>\n",
       "      <td>2023180.50</td>\n",
       "    </tr>\n",
       "    <tr>\n",
       "      <th>1979-01-09 08:00:00</th>\n",
       "      <td>0.000035</td>\n",
       "      <td>1958924.00</td>\n",
       "    </tr>\n",
       "    <tr>\n",
       "      <th>1979-01-13 05:00:00</th>\n",
       "      <td>0.000131</td>\n",
       "      <td>375750.62</td>\n",
       "    </tr>\n",
       "    <tr>\n",
       "      <th>1979-01-13 06:00:00</th>\n",
       "      <td>0.000596</td>\n",
       "      <td>499935.38</td>\n",
       "    </tr>\n",
       "    <tr>\n",
       "      <th>1979-01-13 07:00:00</th>\n",
       "      <td>0.001663</td>\n",
       "      <td>466309.00</td>\n",
       "    </tr>\n",
       "    <tr>\n",
       "      <th>...</th>\n",
       "      <td>...</td>\n",
       "      <td>...</td>\n",
       "    </tr>\n",
       "    <tr>\n",
       "      <th>2020-12-12 13:00:00</th>\n",
       "      <td>0.000871</td>\n",
       "      <td>NaN</td>\n",
       "    </tr>\n",
       "    <tr>\n",
       "      <th>2020-12-12 14:00:00</th>\n",
       "      <td>0.000881</td>\n",
       "      <td>NaN</td>\n",
       "    </tr>\n",
       "    <tr>\n",
       "      <th>2020-12-12 15:00:00</th>\n",
       "      <td>0.000775</td>\n",
       "      <td>NaN</td>\n",
       "    </tr>\n",
       "    <tr>\n",
       "      <th>2020-12-14 10:00:00</th>\n",
       "      <td>0.000293</td>\n",
       "      <td>981772.40</td>\n",
       "    </tr>\n",
       "    <tr>\n",
       "      <th>2020-12-14 11:00:00</th>\n",
       "      <td>0.000230</td>\n",
       "      <td>600719.40</td>\n",
       "    </tr>\n",
       "  </tbody>\n",
       "</table>\n",
       "<p>39977 rows × 2 columns</p>\n",
       "</div>"
      ],
      "text/plain": [
       "                           tp        ssrd\n",
       "time                                     \n",
       "1979-01-01 07:00:00  0.000000  2023180.50\n",
       "1979-01-09 08:00:00  0.000035  1958924.00\n",
       "1979-01-13 05:00:00  0.000131   375750.62\n",
       "1979-01-13 06:00:00  0.000596   499935.38\n",
       "1979-01-13 07:00:00  0.001663   466309.00\n",
       "...                       ...         ...\n",
       "2020-12-12 13:00:00  0.000871         NaN\n",
       "2020-12-12 14:00:00  0.000881         NaN\n",
       "2020-12-12 15:00:00  0.000775         NaN\n",
       "2020-12-14 10:00:00  0.000293   981772.40\n",
       "2020-12-14 11:00:00  0.000230   600719.40\n",
       "\n",
       "[39977 rows x 2 columns]"
      ]
     },
     "execution_count": 202,
     "metadata": {},
     "output_type": "execute_result"
    }
   ],
   "source": [
    "climate_all # 289 362\n",
    "# precip # 39 977\n",
    "# temps # 289 362\n",
    "# radiation # 184 284"
   ]
  },
  {
   "cell_type": "code",
   "execution_count": 203,
   "id": "aa4cd7a7-78a6-471a-8456-0d56f370f6c3",
   "metadata": {},
   "outputs": [
    {
     "data": {
      "text/html": [
       "<div>\n",
       "<style scoped>\n",
       "    .dataframe tbody tr th:only-of-type {\n",
       "        vertical-align: middle;\n",
       "    }\n",
       "\n",
       "    .dataframe tbody tr th {\n",
       "        vertical-align: top;\n",
       "    }\n",
       "\n",
       "    .dataframe thead th {\n",
       "        text-align: right;\n",
       "    }\n",
       "</style>\n",
       "<table border=\"1\" class=\"dataframe\">\n",
       "  <thead>\n",
       "    <tr style=\"text-align: right;\">\n",
       "      <th></th>\n",
       "      <th>tp</th>\n",
       "    </tr>\n",
       "    <tr>\n",
       "      <th>time</th>\n",
       "      <th></th>\n",
       "    </tr>\n",
       "  </thead>\n",
       "  <tbody>\n",
       "    <tr>\n",
       "      <th>1979-01-01 07:00:00</th>\n",
       "      <td>0.000000</td>\n",
       "    </tr>\n",
       "    <tr>\n",
       "      <th>1979-01-09 08:00:00</th>\n",
       "      <td>0.000035</td>\n",
       "    </tr>\n",
       "    <tr>\n",
       "      <th>1979-01-13 05:00:00</th>\n",
       "      <td>0.000131</td>\n",
       "    </tr>\n",
       "    <tr>\n",
       "      <th>1979-01-13 06:00:00</th>\n",
       "      <td>0.000596</td>\n",
       "    </tr>\n",
       "    <tr>\n",
       "      <th>1979-01-13 07:00:00</th>\n",
       "      <td>0.001663</td>\n",
       "    </tr>\n",
       "    <tr>\n",
       "      <th>...</th>\n",
       "      <td>...</td>\n",
       "    </tr>\n",
       "    <tr>\n",
       "      <th>2020-12-12 13:00:00</th>\n",
       "      <td>0.000871</td>\n",
       "    </tr>\n",
       "    <tr>\n",
       "      <th>2020-12-12 14:00:00</th>\n",
       "      <td>0.000881</td>\n",
       "    </tr>\n",
       "    <tr>\n",
       "      <th>2020-12-12 15:00:00</th>\n",
       "      <td>0.000775</td>\n",
       "    </tr>\n",
       "    <tr>\n",
       "      <th>2020-12-14 10:00:00</th>\n",
       "      <td>0.000293</td>\n",
       "    </tr>\n",
       "    <tr>\n",
       "      <th>2020-12-14 11:00:00</th>\n",
       "      <td>0.000230</td>\n",
       "    </tr>\n",
       "  </tbody>\n",
       "</table>\n",
       "<p>39977 rows × 1 columns</p>\n",
       "</div>"
      ],
      "text/plain": [
       "                           tp\n",
       "time                         \n",
       "1979-01-01 07:00:00  0.000000\n",
       "1979-01-09 08:00:00  0.000035\n",
       "1979-01-13 05:00:00  0.000131\n",
       "1979-01-13 06:00:00  0.000596\n",
       "1979-01-13 07:00:00  0.001663\n",
       "...                       ...\n",
       "2020-12-12 13:00:00  0.000871\n",
       "2020-12-12 14:00:00  0.000881\n",
       "2020-12-12 15:00:00  0.000775\n",
       "2020-12-14 10:00:00  0.000293\n",
       "2020-12-14 11:00:00  0.000230\n",
       "\n",
       "[39977 rows x 1 columns]"
      ]
     },
     "execution_count": 203,
     "metadata": {},
     "output_type": "execute_result"
    }
   ],
   "source": [
    "precip"
   ]
  },
  {
   "cell_type": "code",
   "execution_count": 190,
   "id": "bf72ea2f-23fd-4d75-aa81-8efe0b3b77b0",
   "metadata": {},
   "outputs": [
    {
     "data": {
      "text/plain": [
       "<AxesSubplot:xlabel='time'>"
      ]
     },
     "execution_count": 190,
     "metadata": {},
     "output_type": "execute_result"
    },
    {
     "data": {
      "image/png": "[encoded data removed]",
      "text/plain": [
       "<Figure size 432x288 with 1 Axes>"
      ]
     },
     "metadata": {
      "needs_background": "light"
     },
     "output_type": "display_data"
    },
    {
     "data": {
      "image/png": "[encoded data removed]",
      "text/plain": [
       "<Figure size 432x288 with 1 Axes>"
      ]
     },
     "metadata": {
      "needs_background": "light"
     },
     "output_type": "display_data"
    }
   ],
   "source": [
    "temps.plot()\n",
    "radiation.plot()"
   ]
  },
  {
   "cell_type": "code",
   "execution_count": 189,
   "id": "44d7f569-2c3e-4895-8e23-347775ad83bb",
   "metadata": {},
   "outputs": [
    {
     "data": {
      "text/plain": [
       "<AxesSubplot:xlabel='time'>"
      ]
     },
     "execution_count": 189,
     "metadata": {},
     "output_type": "execute_result"
    },
    {
     "data": {
      "image/png": "[encoded data removed]",
      "text/plain": [
       "<Figure size 432x288 with 1 Axes>"
      ]
     },
     "metadata": {
      "needs_background": "light"
     },
     "output_type": "display_data"
    }
   ],
   "source": []
  },
  {
   "cell_type": "code",
   "execution_count": null,
   "id": "3c378818-15fb-4a77-99b4-9f7b828fb374",
   "metadata": {},
   "outputs": [],
   "source": []
  }
 ],
 "metadata": {
  "kernelspec": {
   "display_name": "Python 3 (ipykernel)",
   "language": "python",
   "name": "python3"
  },
  "language_info": {
   "codemirror_mode": {
    "name": "ipython",
    "version": 3
   },
   "file_extension": ".py",
   "mimetype": "text/x-python",
   "name": "python",
   "nbconvert_exporter": "python",
   "pygments_lexer": "ipython3",
   "version": "3.7.11"
  }
 },
 "nbformat": 4,
 "nbformat_minor": 5
}
